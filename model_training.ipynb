{
 "cells": [
  {
   "cell_type": "markdown",
   "id": "9d4a9cc4",
   "metadata": {
    "papermill": {
     "duration": 0.009332,
     "end_time": "2025-01-18T17:10:40.634112",
     "exception": false,
     "start_time": "2025-01-18T17:10:40.624780",
     "status": "completed"
    },
    "tags": []
   },
   "source": [
    "## READ DATA"
   ]
  },
  {
   "cell_type": "code",
   "execution_count": 1,
   "id": "a09844fd",
   "metadata": {
    "_cell_guid": "b1076dfc-b9ad-4769-8c92-a6c4dae69d19",
    "_uuid": "8f2839f25d086af736a60e9eeb907d3b93b6e0e5",
    "execution": {
     "iopub.execute_input": "2025-01-18T17:10:40.652975Z",
     "iopub.status.busy": "2025-01-18T17:10:40.652592Z",
     "iopub.status.idle": "2025-01-18T17:10:41.582600Z",
     "shell.execute_reply": "2025-01-18T17:10:41.581141Z"
    },
    "papermill": {
     "duration": 0.941777,
     "end_time": "2025-01-18T17:10:41.584642",
     "exception": false,
     "start_time": "2025-01-18T17:10:40.642865",
     "status": "completed"
    },
    "tags": []
   },
   "outputs": [
    {
     "name": "stdout",
     "output_type": "stream",
     "text": [
      "/kaggle/input/co2-emission-by-vehicles/CO2 Emissions_Canada.csv\n",
      "/kaggle/input/co2-emission-by-vehicles/Data Description.csv\n"
     ]
    }
   ],
   "source": [
    "# This Python 3 environment comes with many helpful analytics libraries installed\n",
    "# It is defined by the kaggle/python Docker image: https://github.com/kaggle/docker-python\n",
    "# For example, here's several helpful packages to load\n",
    "\n",
    "import numpy as np # linear algebra\n",
    "import pandas as pd # data processing, CSV file I/O (e.g. pd.read_csv)\n",
    "\n",
    "# Input data files are available in the read-only \"../input/\" directory\n",
    "# For example, running this (by clicking run or pressing Shift+Enter) will list all files under the input directory\n",
    "\n",
    "import os\n",
    "for dirname, _, filenames in os.walk('/kaggle/input'):\n",
    "    for filename in filenames:\n",
    "        print(os.path.join(dirname, filename))\n",
    "\n",
    "# You can write up to 20GB to the current directory (/kaggle/working/) that gets preserved as output when you create a version using \"Save & Run All\" \n",
    "# You can also write temporary files to /kaggle/temp/, but they won't be saved outside of the current session"
   ]
  },
  {
   "cell_type": "code",
   "execution_count": 2,
   "id": "14cd9b81",
   "metadata": {
    "execution": {
     "iopub.execute_input": "2025-01-18T17:10:41.603741Z",
     "iopub.status.busy": "2025-01-18T17:10:41.603254Z",
     "iopub.status.idle": "2025-01-18T17:10:46.172009Z",
     "shell.execute_reply": "2025-01-18T17:10:46.170457Z"
    },
    "papermill": {
     "duration": 4.580076,
     "end_time": "2025-01-18T17:10:46.173861",
     "exception": false,
     "start_time": "2025-01-18T17:10:41.593785",
     "status": "completed"
    },
    "tags": []
   },
   "outputs": [
    {
     "name": "stdout",
     "output_type": "stream",
     "text": [
      "Name: numpy\r\n",
      "Version: 1.26.4\r\n",
      "Summary: Fundamental package for array computing in Python\r\n",
      "Home-page: https://www.numpy.org\r\n",
      "Author: Travis E. Oliphant et al.\r\n",
      "Author-email: \r\n",
      "License: BSD-3-Clause\r\n",
      "Location: /usr/local/lib/python3.10/dist-packages\r\n",
      "Requires: mkl, mkl-service, mkl_fft, mkl_random, mkl_umath, tbb4py\r\n",
      "Required-by: accelerate, albucore, albumentations, arviz, astropy, autograd, bayesian-optimization, bigframes, blis, blosc2, bokeh, Boruta, Bottleneck, bqplot, Cartopy, catboost, category_encoders, cesium, chex, clarabel, cmdstanpy, contourpy, cudf-cu12, cufflinks, cuml-cu12, cupy-cuda12x, cuvs-cu12, cvxpy, dask-cuda, dask-cudf-cu12, datascience, datasets, datashader, db-dtypes, deap, diffusers, dipy, dopamine_rl, easyocr, eli5, fasttext, featuretools, flax, folium, fury, geemap, gensim, geopandas, gym, gymnasium, h5py, hep_ml, holoviews, hyperopt, ibis-framework, ImageHash, imageio, imbalanced-learn, imgaug, ipympl, jax, jaxlib, kaggle-environments, keras, keras-core, keras-hub, langchain, langid, libpysal, librosa, lightgbm, lime, matplotlib, matplotlib-venn, missingno, mizani, mkl-fft, mkl-random, mkl-umath, ml-dtypes, mlcrate, mlxtend, mne, moviepy, music21, nibabel, nilearn, numba, numexpr, nx-cugraph-cu12, onnx, opencv-contrib-python, opencv-python, opencv-python-headless, optax, optuna, orbax-checkpoint, osqp, pandas, pandas-gbq, pandas-stubs, pandasql, patsy, peft, pettingzoo, phik, plotly-express, plotnine, prophet, pyarrow, pycocotools, pydegensac, pyemd, pyerfa, pyLDAvis, pylibraft-cu12, pymc, pymc3, pyogrio, pytensor, python-louvain, PyUpSet, PyWavelets, qdldl, rmm-cu12, scikit-image, scikit-learn, scikit-learn-intelex, scikit-optimize, scikit-surprise, scipy, scs, seaborn, shap, shapely, Shimmy, sklearn-pandas, soxr, spacy, stable-baselines3, stanio, statsmodels, stumpy, tables, tensorboard, tensorflow, tensorflow-datasets, tensorflow-hub, tensorflow-probability, tensorflow_decision_forests, tensorstore, Theano, Theano-PyMC, thinc, tifffile, torchmetrics, torchtune, torchvision, TPOT, transformers, treelite, trx-python, tsfresh, ucx-py-cu12, ucxx-cu12, visions, wavio, woodwork, wordcloud, xarray, xarray-einstats, xgboost, ydata-profiling, ydf, yellowbrick, yfinance\r\n",
      "Note: you may need to restart the kernel to use updated packages.\n"
     ]
    }
   ],
   "source": [
    "%pip show numpy"
   ]
  },
  {
   "cell_type": "code",
   "execution_count": 3,
   "id": "1458d345",
   "metadata": {
    "execution": {
     "iopub.execute_input": "2025-01-18T17:10:46.194546Z",
     "iopub.status.busy": "2025-01-18T17:10:46.194163Z",
     "iopub.status.idle": "2025-01-18T17:10:48.446513Z",
     "shell.execute_reply": "2025-01-18T17:10:48.445414Z"
    },
    "papermill": {
     "duration": 2.26539,
     "end_time": "2025-01-18T17:10:48.448585",
     "exception": false,
     "start_time": "2025-01-18T17:10:46.183195",
     "status": "completed"
    },
    "tags": []
   },
   "outputs": [],
   "source": [
    "import numpy as np\n",
    "import matplotlib.pyplot as plt\n",
    "import matplotlib.lines as mlines\n",
    "import matplotlib.transforms as mtransforms\n",
    "from sklearn.linear_model import LinearRegression\n",
    "from sklearn.model_selection import ShuffleSplit\n",
    "from sklearn.model_selection import cross_val_score\n",
    "from sklearn.model_selection import GridSearchCV\n",
    "from sklearn.linear_model import Lasso\n",
    "from sklearn.tree import DecisionTreeRegressor\n",
    "import pandas as pd\n",
    "import seaborn as sns"
   ]
  },
  {
   "cell_type": "code",
   "execution_count": 4,
   "id": "f65c7062",
   "metadata": {
    "execution": {
     "iopub.execute_input": "2025-01-18T17:10:48.468237Z",
     "iopub.status.busy": "2025-01-18T17:10:48.467664Z",
     "iopub.status.idle": "2025-01-18T17:10:48.542165Z",
     "shell.execute_reply": "2025-01-18T17:10:48.540996Z"
    },
    "papermill": {
     "duration": 0.086057,
     "end_time": "2025-01-18T17:10:48.543865",
     "exception": false,
     "start_time": "2025-01-18T17:10:48.457808",
     "status": "completed"
    },
    "tags": []
   },
   "outputs": [
    {
     "data": {
      "text/html": [
       "<div>\n",
       "<style scoped>\n",
       "    .dataframe tbody tr th:only-of-type {\n",
       "        vertical-align: middle;\n",
       "    }\n",
       "\n",
       "    .dataframe tbody tr th {\n",
       "        vertical-align: top;\n",
       "    }\n",
       "\n",
       "    .dataframe thead th {\n",
       "        text-align: right;\n",
       "    }\n",
       "</style>\n",
       "<table border=\"1\" class=\"dataframe\">\n",
       "  <thead>\n",
       "    <tr style=\"text-align: right;\">\n",
       "      <th></th>\n",
       "      <th>Make</th>\n",
       "      <th>Model</th>\n",
       "      <th>Vehicle Class</th>\n",
       "      <th>Engine Size(L)</th>\n",
       "      <th>Cylinders</th>\n",
       "      <th>Transmission</th>\n",
       "      <th>Fuel Type</th>\n",
       "      <th>Fuel Consumption City (L/100 km)</th>\n",
       "      <th>Fuel Consumption Hwy (L/100 km)</th>\n",
       "      <th>Fuel Consumption Comb (L/100 km)</th>\n",
       "      <th>Fuel Consumption Comb (mpg)</th>\n",
       "      <th>CO2 Emissions(g/km)</th>\n",
       "    </tr>\n",
       "  </thead>\n",
       "  <tbody>\n",
       "    <tr>\n",
       "      <th>0</th>\n",
       "      <td>ACURA</td>\n",
       "      <td>ILX</td>\n",
       "      <td>COMPACT</td>\n",
       "      <td>2.0</td>\n",
       "      <td>4</td>\n",
       "      <td>AS5</td>\n",
       "      <td>Z</td>\n",
       "      <td>9.9</td>\n",
       "      <td>6.7</td>\n",
       "      <td>8.5</td>\n",
       "      <td>33</td>\n",
       "      <td>196</td>\n",
       "    </tr>\n",
       "    <tr>\n",
       "      <th>1</th>\n",
       "      <td>ACURA</td>\n",
       "      <td>ILX</td>\n",
       "      <td>COMPACT</td>\n",
       "      <td>2.4</td>\n",
       "      <td>4</td>\n",
       "      <td>M6</td>\n",
       "      <td>Z</td>\n",
       "      <td>11.2</td>\n",
       "      <td>7.7</td>\n",
       "      <td>9.6</td>\n",
       "      <td>29</td>\n",
       "      <td>221</td>\n",
       "    </tr>\n",
       "    <tr>\n",
       "      <th>2</th>\n",
       "      <td>ACURA</td>\n",
       "      <td>ILX HYBRID</td>\n",
       "      <td>COMPACT</td>\n",
       "      <td>1.5</td>\n",
       "      <td>4</td>\n",
       "      <td>AV7</td>\n",
       "      <td>Z</td>\n",
       "      <td>6.0</td>\n",
       "      <td>5.8</td>\n",
       "      <td>5.9</td>\n",
       "      <td>48</td>\n",
       "      <td>136</td>\n",
       "    </tr>\n",
       "    <tr>\n",
       "      <th>3</th>\n",
       "      <td>ACURA</td>\n",
       "      <td>MDX 4WD</td>\n",
       "      <td>SUV - SMALL</td>\n",
       "      <td>3.5</td>\n",
       "      <td>6</td>\n",
       "      <td>AS6</td>\n",
       "      <td>Z</td>\n",
       "      <td>12.7</td>\n",
       "      <td>9.1</td>\n",
       "      <td>11.1</td>\n",
       "      <td>25</td>\n",
       "      <td>255</td>\n",
       "    </tr>\n",
       "    <tr>\n",
       "      <th>4</th>\n",
       "      <td>ACURA</td>\n",
       "      <td>RDX AWD</td>\n",
       "      <td>SUV - SMALL</td>\n",
       "      <td>3.5</td>\n",
       "      <td>6</td>\n",
       "      <td>AS6</td>\n",
       "      <td>Z</td>\n",
       "      <td>12.1</td>\n",
       "      <td>8.7</td>\n",
       "      <td>10.6</td>\n",
       "      <td>27</td>\n",
       "      <td>244</td>\n",
       "    </tr>\n",
       "    <tr>\n",
       "      <th>5</th>\n",
       "      <td>ACURA</td>\n",
       "      <td>RLX</td>\n",
       "      <td>MID-SIZE</td>\n",
       "      <td>3.5</td>\n",
       "      <td>6</td>\n",
       "      <td>AS6</td>\n",
       "      <td>Z</td>\n",
       "      <td>11.9</td>\n",
       "      <td>7.7</td>\n",
       "      <td>10.0</td>\n",
       "      <td>28</td>\n",
       "      <td>230</td>\n",
       "    </tr>\n",
       "  </tbody>\n",
       "</table>\n",
       "</div>"
      ],
      "text/plain": [
       "    Make       Model Vehicle Class  Engine Size(L)  Cylinders Transmission  \\\n",
       "0  ACURA         ILX       COMPACT             2.0          4          AS5   \n",
       "1  ACURA         ILX       COMPACT             2.4          4           M6   \n",
       "2  ACURA  ILX HYBRID       COMPACT             1.5          4          AV7   \n",
       "3  ACURA     MDX 4WD   SUV - SMALL             3.5          6          AS6   \n",
       "4  ACURA     RDX AWD   SUV - SMALL             3.5          6          AS6   \n",
       "5  ACURA         RLX      MID-SIZE             3.5          6          AS6   \n",
       "\n",
       "  Fuel Type  Fuel Consumption City (L/100 km)  \\\n",
       "0         Z                               9.9   \n",
       "1         Z                              11.2   \n",
       "2         Z                               6.0   \n",
       "3         Z                              12.7   \n",
       "4         Z                              12.1   \n",
       "5         Z                              11.9   \n",
       "\n",
       "   Fuel Consumption Hwy (L/100 km)  Fuel Consumption Comb (L/100 km)  \\\n",
       "0                              6.7                               8.5   \n",
       "1                              7.7                               9.6   \n",
       "2                              5.8                               5.9   \n",
       "3                              9.1                              11.1   \n",
       "4                              8.7                              10.6   \n",
       "5                              7.7                              10.0   \n",
       "\n",
       "   Fuel Consumption Comb (mpg)  CO2 Emissions(g/km)  \n",
       "0                           33                  196  \n",
       "1                           29                  221  \n",
       "2                           48                  136  \n",
       "3                           25                  255  \n",
       "4                           27                  244  \n",
       "5                           28                  230  "
      ]
     },
     "execution_count": 4,
     "metadata": {},
     "output_type": "execute_result"
    }
   ],
   "source": [
    "df = pd.read_csv(\"/kaggle/input/co2-emission-by-vehicles/CO2 Emissions_Canada.csv\")\n",
    "df.shape\n",
    "df.head(6)"
   ]
  },
  {
   "cell_type": "code",
   "execution_count": 5,
   "id": "2738ecfb",
   "metadata": {
    "execution": {
     "iopub.execute_input": "2025-01-18T17:10:48.563485Z",
     "iopub.status.busy": "2025-01-18T17:10:48.563107Z",
     "iopub.status.idle": "2025-01-18T17:10:48.591824Z",
     "shell.execute_reply": "2025-01-18T17:10:48.590596Z"
    },
    "papermill": {
     "duration": 0.040456,
     "end_time": "2025-01-18T17:10:48.593580",
     "exception": false,
     "start_time": "2025-01-18T17:10:48.553124",
     "status": "completed"
    },
    "tags": []
   },
   "outputs": [
    {
     "name": "stdout",
     "output_type": "stream",
     "text": [
      "<class 'pandas.core.frame.DataFrame'>\n",
      "RangeIndex: 7385 entries, 0 to 7384\n",
      "Data columns (total 12 columns):\n",
      " #   Column                            Non-Null Count  Dtype  \n",
      "---  ------                            --------------  -----  \n",
      " 0   Make                              7385 non-null   object \n",
      " 1   Model                             7385 non-null   object \n",
      " 2   Vehicle Class                     7385 non-null   object \n",
      " 3   Engine Size(L)                    7385 non-null   float64\n",
      " 4   Cylinders                         7385 non-null   int64  \n",
      " 5   Transmission                      7385 non-null   object \n",
      " 6   Fuel Type                         7385 non-null   object \n",
      " 7   Fuel Consumption City (L/100 km)  7385 non-null   float64\n",
      " 8   Fuel Consumption Hwy (L/100 km)   7385 non-null   float64\n",
      " 9   Fuel Consumption Comb (L/100 km)  7385 non-null   float64\n",
      " 10  Fuel Consumption Comb (mpg)       7385 non-null   int64  \n",
      " 11  CO2 Emissions(g/km)               7385 non-null   int64  \n",
      "dtypes: float64(4), int64(3), object(5)\n",
      "memory usage: 692.5+ KB\n"
     ]
    }
   ],
   "source": [
    "df.info()"
   ]
  },
  {
   "cell_type": "markdown",
   "id": "06fa5d18",
   "metadata": {
    "papermill": {
     "duration": 0.009166,
     "end_time": "2025-01-18T17:10:48.612209",
     "exception": false,
     "start_time": "2025-01-18T17:10:48.603043",
     "status": "completed"
    },
    "tags": []
   },
   "source": [
    "## PREPROCESSING"
   ]
  },
  {
   "cell_type": "code",
   "execution_count": 6,
   "id": "66e1cb87",
   "metadata": {
    "execution": {
     "iopub.execute_input": "2025-01-18T17:10:48.632187Z",
     "iopub.status.busy": "2025-01-18T17:10:48.631794Z",
     "iopub.status.idle": "2025-01-18T17:10:48.649447Z",
     "shell.execute_reply": "2025-01-18T17:10:48.648437Z"
    },
    "papermill": {
     "duration": 0.029455,
     "end_time": "2025-01-18T17:10:48.651133",
     "exception": false,
     "start_time": "2025-01-18T17:10:48.621678",
     "status": "completed"
    },
    "tags": []
   },
   "outputs": [
    {
     "data": {
      "text/html": [
       "<div>\n",
       "<style scoped>\n",
       "    .dataframe tbody tr th:only-of-type {\n",
       "        vertical-align: middle;\n",
       "    }\n",
       "\n",
       "    .dataframe tbody tr th {\n",
       "        vertical-align: top;\n",
       "    }\n",
       "\n",
       "    .dataframe thead th {\n",
       "        text-align: right;\n",
       "    }\n",
       "</style>\n",
       "<table border=\"1\" class=\"dataframe\">\n",
       "  <thead>\n",
       "    <tr style=\"text-align: right;\">\n",
       "      <th></th>\n",
       "      <th>Make</th>\n",
       "      <th>Model</th>\n",
       "      <th>Vehicle Class</th>\n",
       "      <th>Engine Size(L)</th>\n",
       "      <th>Cylinders</th>\n",
       "      <th>Transmission</th>\n",
       "      <th>Fuel Type</th>\n",
       "      <th>Fuel Consumption Comb (mpg)</th>\n",
       "      <th>CO2 Emissions(g/km)</th>\n",
       "    </tr>\n",
       "  </thead>\n",
       "  <tbody>\n",
       "    <tr>\n",
       "      <th>0</th>\n",
       "      <td>ACURA</td>\n",
       "      <td>ILX</td>\n",
       "      <td>COMPACT</td>\n",
       "      <td>2.0</td>\n",
       "      <td>4</td>\n",
       "      <td>AS5</td>\n",
       "      <td>Z</td>\n",
       "      <td>33</td>\n",
       "      <td>196</td>\n",
       "    </tr>\n",
       "    <tr>\n",
       "      <th>1</th>\n",
       "      <td>ACURA</td>\n",
       "      <td>ILX</td>\n",
       "      <td>COMPACT</td>\n",
       "      <td>2.4</td>\n",
       "      <td>4</td>\n",
       "      <td>M6</td>\n",
       "      <td>Z</td>\n",
       "      <td>29</td>\n",
       "      <td>221</td>\n",
       "    </tr>\n",
       "    <tr>\n",
       "      <th>2</th>\n",
       "      <td>ACURA</td>\n",
       "      <td>ILX HYBRID</td>\n",
       "      <td>COMPACT</td>\n",
       "      <td>1.5</td>\n",
       "      <td>4</td>\n",
       "      <td>AV7</td>\n",
       "      <td>Z</td>\n",
       "      <td>48</td>\n",
       "      <td>136</td>\n",
       "    </tr>\n",
       "    <tr>\n",
       "      <th>3</th>\n",
       "      <td>ACURA</td>\n",
       "      <td>MDX 4WD</td>\n",
       "      <td>SUV - SMALL</td>\n",
       "      <td>3.5</td>\n",
       "      <td>6</td>\n",
       "      <td>AS6</td>\n",
       "      <td>Z</td>\n",
       "      <td>25</td>\n",
       "      <td>255</td>\n",
       "    </tr>\n",
       "    <tr>\n",
       "      <th>4</th>\n",
       "      <td>ACURA</td>\n",
       "      <td>RDX AWD</td>\n",
       "      <td>SUV - SMALL</td>\n",
       "      <td>3.5</td>\n",
       "      <td>6</td>\n",
       "      <td>AS6</td>\n",
       "      <td>Z</td>\n",
       "      <td>27</td>\n",
       "      <td>244</td>\n",
       "    </tr>\n",
       "    <tr>\n",
       "      <th>5</th>\n",
       "      <td>ACURA</td>\n",
       "      <td>RLX</td>\n",
       "      <td>MID-SIZE</td>\n",
       "      <td>3.5</td>\n",
       "      <td>6</td>\n",
       "      <td>AS6</td>\n",
       "      <td>Z</td>\n",
       "      <td>28</td>\n",
       "      <td>230</td>\n",
       "    </tr>\n",
       "  </tbody>\n",
       "</table>\n",
       "</div>"
      ],
      "text/plain": [
       "    Make       Model Vehicle Class  Engine Size(L)  Cylinders Transmission  \\\n",
       "0  ACURA         ILX       COMPACT             2.0          4          AS5   \n",
       "1  ACURA         ILX       COMPACT             2.4          4           M6   \n",
       "2  ACURA  ILX HYBRID       COMPACT             1.5          4          AV7   \n",
       "3  ACURA     MDX 4WD   SUV - SMALL             3.5          6          AS6   \n",
       "4  ACURA     RDX AWD   SUV - SMALL             3.5          6          AS6   \n",
       "5  ACURA         RLX      MID-SIZE             3.5          6          AS6   \n",
       "\n",
       "  Fuel Type  Fuel Consumption Comb (mpg)  CO2 Emissions(g/km)  \n",
       "0         Z                           33                  196  \n",
       "1         Z                           29                  221  \n",
       "2         Z                           48                  136  \n",
       "3         Z                           25                  255  \n",
       "4         Z                           27                  244  \n",
       "5         Z                           28                  230  "
      ]
     },
     "execution_count": 6,
     "metadata": {},
     "output_type": "execute_result"
    }
   ],
   "source": [
    "# Drop unnecessary columns\n",
    "df = df.drop(['Fuel Consumption City (L/100 km)', 'Fuel Consumption Hwy (L/100 km)', 'Fuel Consumption Comb (L/100 km)'], axis = 1)\n",
    "df.head(6)"
   ]
  },
  {
   "cell_type": "code",
   "execution_count": 7,
   "id": "7acd10bf",
   "metadata": {
    "execution": {
     "iopub.execute_input": "2025-01-18T17:10:48.671396Z",
     "iopub.status.busy": "2025-01-18T17:10:48.671033Z",
     "iopub.status.idle": "2025-01-18T17:10:48.684949Z",
     "shell.execute_reply": "2025-01-18T17:10:48.683864Z"
    },
    "papermill": {
     "duration": 0.025823,
     "end_time": "2025-01-18T17:10:48.686519",
     "exception": false,
     "start_time": "2025-01-18T17:10:48.660696",
     "status": "completed"
    },
    "tags": []
   },
   "outputs": [
    {
     "data": {
      "text/html": [
       "<div>\n",
       "<style scoped>\n",
       "    .dataframe tbody tr th:only-of-type {\n",
       "        vertical-align: middle;\n",
       "    }\n",
       "\n",
       "    .dataframe tbody tr th {\n",
       "        vertical-align: top;\n",
       "    }\n",
       "\n",
       "    .dataframe thead th {\n",
       "        text-align: right;\n",
       "    }\n",
       "</style>\n",
       "<table border=\"1\" class=\"dataframe\">\n",
       "  <thead>\n",
       "    <tr style=\"text-align: right;\">\n",
       "      <th></th>\n",
       "      <th>make</th>\n",
       "      <th>model</th>\n",
       "      <th>vehicle_class</th>\n",
       "      <th>engine_size</th>\n",
       "      <th>cylinders</th>\n",
       "      <th>transmission</th>\n",
       "      <th>fuel_type</th>\n",
       "      <th>fuel_consumption</th>\n",
       "      <th>co2</th>\n",
       "    </tr>\n",
       "  </thead>\n",
       "  <tbody>\n",
       "    <tr>\n",
       "      <th>0</th>\n",
       "      <td>ACURA</td>\n",
       "      <td>ILX</td>\n",
       "      <td>COMPACT</td>\n",
       "      <td>2.0</td>\n",
       "      <td>4</td>\n",
       "      <td>AS5</td>\n",
       "      <td>Z</td>\n",
       "      <td>33</td>\n",
       "      <td>196</td>\n",
       "    </tr>\n",
       "    <tr>\n",
       "      <th>1</th>\n",
       "      <td>ACURA</td>\n",
       "      <td>ILX</td>\n",
       "      <td>COMPACT</td>\n",
       "      <td>2.4</td>\n",
       "      <td>4</td>\n",
       "      <td>M6</td>\n",
       "      <td>Z</td>\n",
       "      <td>29</td>\n",
       "      <td>221</td>\n",
       "    </tr>\n",
       "    <tr>\n",
       "      <th>2</th>\n",
       "      <td>ACURA</td>\n",
       "      <td>ILX HYBRID</td>\n",
       "      <td>COMPACT</td>\n",
       "      <td>1.5</td>\n",
       "      <td>4</td>\n",
       "      <td>AV7</td>\n",
       "      <td>Z</td>\n",
       "      <td>48</td>\n",
       "      <td>136</td>\n",
       "    </tr>\n",
       "    <tr>\n",
       "      <th>3</th>\n",
       "      <td>ACURA</td>\n",
       "      <td>MDX 4WD</td>\n",
       "      <td>SUV - SMALL</td>\n",
       "      <td>3.5</td>\n",
       "      <td>6</td>\n",
       "      <td>AS6</td>\n",
       "      <td>Z</td>\n",
       "      <td>25</td>\n",
       "      <td>255</td>\n",
       "    </tr>\n",
       "    <tr>\n",
       "      <th>4</th>\n",
       "      <td>ACURA</td>\n",
       "      <td>RDX AWD</td>\n",
       "      <td>SUV - SMALL</td>\n",
       "      <td>3.5</td>\n",
       "      <td>6</td>\n",
       "      <td>AS6</td>\n",
       "      <td>Z</td>\n",
       "      <td>27</td>\n",
       "      <td>244</td>\n",
       "    </tr>\n",
       "    <tr>\n",
       "      <th>5</th>\n",
       "      <td>ACURA</td>\n",
       "      <td>RLX</td>\n",
       "      <td>MID-SIZE</td>\n",
       "      <td>3.5</td>\n",
       "      <td>6</td>\n",
       "      <td>AS6</td>\n",
       "      <td>Z</td>\n",
       "      <td>28</td>\n",
       "      <td>230</td>\n",
       "    </tr>\n",
       "  </tbody>\n",
       "</table>\n",
       "</div>"
      ],
      "text/plain": [
       "    make       model vehicle_class  engine_size  cylinders transmission  \\\n",
       "0  ACURA         ILX       COMPACT          2.0          4          AS5   \n",
       "1  ACURA         ILX       COMPACT          2.4          4           M6   \n",
       "2  ACURA  ILX HYBRID       COMPACT          1.5          4          AV7   \n",
       "3  ACURA     MDX 4WD   SUV - SMALL          3.5          6          AS6   \n",
       "4  ACURA     RDX AWD   SUV - SMALL          3.5          6          AS6   \n",
       "5  ACURA         RLX      MID-SIZE          3.5          6          AS6   \n",
       "\n",
       "  fuel_type  fuel_consumption  co2  \n",
       "0         Z                33  196  \n",
       "1         Z                29  221  \n",
       "2         Z                48  136  \n",
       "3         Z                25  255  \n",
       "4         Z                27  244  \n",
       "5         Z                28  230  "
      ]
     },
     "execution_count": 7,
     "metadata": {},
     "output_type": "execute_result"
    }
   ],
   "source": [
    "# Rename the columns\n",
    "df.rename(columns={ 'Make': 'make',\n",
    "                    'Model': 'model',\n",
    "                    'Vehicle Class': 'vehicle_class',\n",
    "                    'Engine Size(L)': 'engine_size',\n",
    "                    'Cylinders': 'cylinders',\n",
    "                    'Transmission': 'transmission',\n",
    "                    'Fuel Type': 'fuel_type',\n",
    "                    'Fuel Consumption Comb (mpg)': 'fuel_consumption',\n",
    "                    'CO2 Emissions(g/km)': 'co2'\n",
    "                    }, inplace=True)\n",
    "df.head(6)"
   ]
  },
  {
   "cell_type": "code",
   "execution_count": 8,
   "id": "2069ec89",
   "metadata": {
    "execution": {
     "iopub.execute_input": "2025-01-18T17:10:48.707303Z",
     "iopub.status.busy": "2025-01-18T17:10:48.706917Z",
     "iopub.status.idle": "2025-01-18T17:10:48.716692Z",
     "shell.execute_reply": "2025-01-18T17:10:48.715684Z"
    },
    "papermill": {
     "duration": 0.022056,
     "end_time": "2025-01-18T17:10:48.718481",
     "exception": false,
     "start_time": "2025-01-18T17:10:48.696425",
     "status": "completed"
    },
    "tags": []
   },
   "outputs": [
    {
     "data": {
      "text/plain": [
       "make                0\n",
       "model               0\n",
       "vehicle_class       0\n",
       "engine_size         0\n",
       "cylinders           0\n",
       "transmission        0\n",
       "fuel_type           0\n",
       "fuel_consumption    0\n",
       "co2                 0\n",
       "dtype: int64"
      ]
     },
     "execution_count": 8,
     "metadata": {},
     "output_type": "execute_result"
    }
   ],
   "source": [
    "# Check missing data - Luckily, no missing data\n",
    "df_recommender = df.copy()\n",
    "df.isnull().sum()"
   ]
  },
  {
   "cell_type": "code",
   "execution_count": 9,
   "id": "8be6ea49",
   "metadata": {
    "execution": {
     "iopub.execute_input": "2025-01-18T17:10:48.739180Z",
     "iopub.status.busy": "2025-01-18T17:10:48.738777Z",
     "iopub.status.idle": "2025-01-18T17:10:48.752954Z",
     "shell.execute_reply": "2025-01-18T17:10:48.751841Z"
    },
    "papermill": {
     "duration": 0.026392,
     "end_time": "2025-01-18T17:10:48.754733",
     "exception": false,
     "start_time": "2025-01-18T17:10:48.728341",
     "status": "completed"
    },
    "tags": []
   },
   "outputs": [
    {
     "data": {
      "text/html": [
       "<div>\n",
       "<style scoped>\n",
       "    .dataframe tbody tr th:only-of-type {\n",
       "        vertical-align: middle;\n",
       "    }\n",
       "\n",
       "    .dataframe tbody tr th {\n",
       "        vertical-align: top;\n",
       "    }\n",
       "\n",
       "    .dataframe thead th {\n",
       "        text-align: right;\n",
       "    }\n",
       "</style>\n",
       "<table border=\"1\" class=\"dataframe\">\n",
       "  <thead>\n",
       "    <tr style=\"text-align: right;\">\n",
       "      <th></th>\n",
       "      <th>make</th>\n",
       "      <th>model</th>\n",
       "      <th>vehicle_class</th>\n",
       "      <th>engine_size</th>\n",
       "      <th>cylinders</th>\n",
       "      <th>transmission</th>\n",
       "      <th>fuel_type</th>\n",
       "      <th>fuel_consumption</th>\n",
       "      <th>co2</th>\n",
       "    </tr>\n",
       "  </thead>\n",
       "  <tbody>\n",
       "    <tr>\n",
       "      <th>2049</th>\n",
       "      <td>RAM</td>\n",
       "      <td>1500 4X4</td>\n",
       "      <td>PICKUP TRUCK - STANDARD</td>\n",
       "      <td>3.6</td>\n",
       "      <td>6</td>\n",
       "      <td>A8</td>\n",
       "      <td>X</td>\n",
       "      <td>22</td>\n",
       "      <td>290</td>\n",
       "    </tr>\n",
       "  </tbody>\n",
       "</table>\n",
       "</div>"
      ],
      "text/plain": [
       "     make     model            vehicle_class  engine_size  cylinders  \\\n",
       "2049  RAM  1500 4X4  PICKUP TRUCK - STANDARD          3.6          6   \n",
       "\n",
       "     transmission fuel_type  fuel_consumption  co2  \n",
       "2049           A8         X                22  290  "
      ]
     },
     "execution_count": 9,
     "metadata": {},
     "output_type": "execute_result"
    }
   ],
   "source": [
    "df_recommender.loc[[2049]]"
   ]
  },
  {
   "cell_type": "markdown",
   "id": "12a19a16",
   "metadata": {
    "papermill": {
     "duration": 0.0095,
     "end_time": "2025-01-18T17:10:48.774429",
     "exception": false,
     "start_time": "2025-01-18T17:10:48.764929",
     "status": "completed"
    },
    "tags": []
   },
   "source": [
    "### Categorical features preprocessing"
   ]
  },
  {
   "cell_type": "markdown",
   "id": "db976c5e",
   "metadata": {
    "papermill": {
     "duration": 0.009599,
     "end_time": "2025-01-18T17:10:48.794236",
     "exception": false,
     "start_time": "2025-01-18T17:10:48.784637",
     "status": "completed"
    },
    "tags": []
   },
   "source": [
    "**Encode \"make\" column**"
   ]
  },
  {
   "cell_type": "code",
   "execution_count": 10,
   "id": "080f0a12",
   "metadata": {
    "execution": {
     "iopub.execute_input": "2025-01-18T17:10:48.814948Z",
     "iopub.status.busy": "2025-01-18T17:10:48.814586Z",
     "iopub.status.idle": "2025-01-18T17:10:48.821732Z",
     "shell.execute_reply": "2025-01-18T17:10:48.820717Z"
    },
    "papermill": {
     "duration": 0.019388,
     "end_time": "2025-01-18T17:10:48.823406",
     "exception": false,
     "start_time": "2025-01-18T17:10:48.804018",
     "status": "completed"
    },
    "tags": []
   },
   "outputs": [
    {
     "data": {
      "text/plain": [
       "array(['ACURA', 'ALFA ROMEO', 'ASTON MARTIN', 'AUDI', 'BENTLEY', 'BMW',\n",
       "       'BUICK', 'CADILLAC', 'CHEVROLET', 'CHRYSLER', 'DODGE', 'FIAT',\n",
       "       'FORD', 'GMC', 'HONDA', 'HYUNDAI', 'INFINITI', 'JAGUAR', 'JEEP',\n",
       "       'KIA', 'LAMBORGHINI', 'LAND ROVER', 'LEXUS', 'LINCOLN', 'MASERATI',\n",
       "       'MAZDA', 'MERCEDES-BENZ', 'MINI', 'MITSUBISHI', 'NISSAN',\n",
       "       'PORSCHE', 'RAM', 'ROLLS-ROYCE', 'SCION', 'SMART', 'SRT', 'SUBARU',\n",
       "       'TOYOTA', 'VOLKSWAGEN', 'VOLVO', 'GENESIS', 'BUGATTI'],\n",
       "      dtype=object)"
      ]
     },
     "execution_count": 10,
     "metadata": {},
     "output_type": "execute_result"
    }
   ],
   "source": [
    "df[\"make\"].unique()"
   ]
  },
  {
   "cell_type": "code",
   "execution_count": 11,
   "id": "cdca6828",
   "metadata": {
    "execution": {
     "iopub.execute_input": "2025-01-18T17:10:48.844672Z",
     "iopub.status.busy": "2025-01-18T17:10:48.844326Z",
     "iopub.status.idle": "2025-01-18T17:10:48.854947Z",
     "shell.execute_reply": "2025-01-18T17:10:48.854041Z"
    },
    "papermill": {
     "duration": 0.023045,
     "end_time": "2025-01-18T17:10:48.856617",
     "exception": false,
     "start_time": "2025-01-18T17:10:48.833572",
     "status": "completed"
    },
    "tags": []
   },
   "outputs": [
    {
     "data": {
      "text/plain": [
       "array([ 0,  1,  2,  3,  4,  5,  7,  8,  9, 10, 11, 12, 13, 15, 16, 17, 18,\n",
       "       19, 20, 21, 22, 23, 24, 25, 26, 27, 28, 29, 30, 31, 32, 33, 34, 35,\n",
       "       36, 37, 38, 39, 40, 41, 14,  6])"
      ]
     },
     "execution_count": 11,
     "metadata": {},
     "output_type": "execute_result"
    }
   ],
   "source": [
    "from sklearn.preprocessing import LabelEncoder\n",
    "\n",
    "# Create a LabelEncoder object\n",
    "le = LabelEncoder()\n",
    "\n",
    "# Fit and transform the categorical data\n",
    "df['make'] = le.fit_transform(df['make'])\n",
    "df[\"make\"].unique()"
   ]
  },
  {
   "cell_type": "markdown",
   "id": "671cf3d4",
   "metadata": {
    "papermill": {
     "duration": 0.009682,
     "end_time": "2025-01-18T17:10:48.876587",
     "exception": false,
     "start_time": "2025-01-18T17:10:48.866905",
     "status": "completed"
    },
    "tags": []
   },
   "source": [
    "**Encode \"vehicle_class\" column**"
   ]
  },
  {
   "cell_type": "code",
   "execution_count": 12,
   "id": "c7cf5a05",
   "metadata": {
    "execution": {
     "iopub.execute_input": "2025-01-18T17:10:48.897802Z",
     "iopub.status.busy": "2025-01-18T17:10:48.897446Z",
     "iopub.status.idle": "2025-01-18T17:10:48.904222Z",
     "shell.execute_reply": "2025-01-18T17:10:48.903133Z"
    },
    "papermill": {
     "duration": 0.019317,
     "end_time": "2025-01-18T17:10:48.905981",
     "exception": false,
     "start_time": "2025-01-18T17:10:48.886664",
     "status": "completed"
    },
    "tags": []
   },
   "outputs": [
    {
     "data": {
      "text/plain": [
       "array(['COMPACT', 'SUV - SMALL', 'MID-SIZE', 'TWO-SEATER', 'MINICOMPACT',\n",
       "       'SUBCOMPACT', 'FULL-SIZE', 'STATION WAGON - SMALL',\n",
       "       'SUV - STANDARD', 'VAN - CARGO', 'VAN - PASSENGER',\n",
       "       'PICKUP TRUCK - STANDARD', 'MINIVAN', 'SPECIAL PURPOSE VEHICLE',\n",
       "       'STATION WAGON - MID-SIZE', 'PICKUP TRUCK - SMALL'], dtype=object)"
      ]
     },
     "execution_count": 12,
     "metadata": {},
     "output_type": "execute_result"
    }
   ],
   "source": [
    "df[\"vehicle_class\"].unique()"
   ]
  },
  {
   "cell_type": "code",
   "execution_count": 13,
   "id": "f3dee0ad",
   "metadata": {
    "execution": {
     "iopub.execute_input": "2025-01-18T17:10:48.927424Z",
     "iopub.status.busy": "2025-01-18T17:10:48.927015Z",
     "iopub.status.idle": "2025-01-18T17:10:48.935453Z",
     "shell.execute_reply": "2025-01-18T17:10:48.934538Z"
    },
    "papermill": {
     "duration": 0.02083,
     "end_time": "2025-01-18T17:10:48.937020",
     "exception": false,
     "start_time": "2025-01-18T17:10:48.916190",
     "status": "completed"
    },
    "tags": []
   },
   "outputs": [
    {
     "data": {
      "text/plain": [
       "array([ 0, 11,  2, 13,  3, 10,  1,  9, 12, 14, 15,  6,  4,  7,  8,  5])"
      ]
     },
     "execution_count": 13,
     "metadata": {},
     "output_type": "execute_result"
    }
   ],
   "source": [
    "df['vehicle_class'] = le.fit_transform(df['vehicle_class'])\n",
    "df['vehicle_class'].unique()"
   ]
  },
  {
   "cell_type": "markdown",
   "id": "fdbd75a6",
   "metadata": {
    "papermill": {
     "duration": 0.009706,
     "end_time": "2025-01-18T17:10:48.957021",
     "exception": false,
     "start_time": "2025-01-18T17:10:48.947315",
     "status": "completed"
    },
    "tags": []
   },
   "source": [
    "**Encode \"transmission\" column**"
   ]
  },
  {
   "cell_type": "code",
   "execution_count": 14,
   "id": "228bcf1d",
   "metadata": {
    "execution": {
     "iopub.execute_input": "2025-01-18T17:10:48.978535Z",
     "iopub.status.busy": "2025-01-18T17:10:48.978158Z",
     "iopub.status.idle": "2025-01-18T17:10:48.984514Z",
     "shell.execute_reply": "2025-01-18T17:10:48.983663Z"
    },
    "papermill": {
     "duration": 0.018947,
     "end_time": "2025-01-18T17:10:48.986159",
     "exception": false,
     "start_time": "2025-01-18T17:10:48.967212",
     "status": "completed"
    },
    "tags": []
   },
   "outputs": [
    {
     "data": {
      "text/plain": [
       "array(['AS5', 'M6', 'AV7', 'AS6', 'AM6', 'A6', 'AM7', 'AV8', 'AS8', 'A7',\n",
       "       'A8', 'M7', 'A4', 'M5', 'AV', 'A5', 'AS7', 'A9', 'AS9', 'AV6',\n",
       "       'AS4', 'AM5', 'AM8', 'AM9', 'AS10', 'A10', 'AV10'], dtype=object)"
      ]
     },
     "execution_count": 14,
     "metadata": {},
     "output_type": "execute_result"
    }
   ],
   "source": [
    "df[\"transmission\"].unique()"
   ]
  },
  {
   "cell_type": "code",
   "execution_count": 15,
   "id": "5c684eb5",
   "metadata": {
    "execution": {
     "iopub.execute_input": "2025-01-18T17:10:49.008290Z",
     "iopub.status.busy": "2025-01-18T17:10:49.007890Z",
     "iopub.status.idle": "2025-01-18T17:10:49.016596Z",
     "shell.execute_reply": "2025-01-18T17:10:49.015690Z"
    },
    "papermill": {
     "duration": 0.02173,
     "end_time": "2025-01-18T17:10:49.018253",
     "exception": false,
     "start_time": "2025-01-18T17:10:48.996523",
     "status": "completed"
    },
    "tags": []
   },
   "outputs": [
    {
     "data": {
      "text/plain": [
       "array([14, 25, 22, 15,  8,  3,  9, 23, 17,  4,  5, 26,  1, 24, 19,  2, 16,\n",
       "        6, 18, 21, 13,  7, 10, 11, 12,  0, 20])"
      ]
     },
     "execution_count": 15,
     "metadata": {},
     "output_type": "execute_result"
    }
   ],
   "source": [
    "df['transmission'] = le.fit_transform(df['transmission'])\n",
    "df['transmission'].unique()"
   ]
  },
  {
   "cell_type": "markdown",
   "id": "52b8ec51",
   "metadata": {
    "papermill": {
     "duration": 0.009917,
     "end_time": "2025-01-18T17:10:49.038642",
     "exception": false,
     "start_time": "2025-01-18T17:10:49.028725",
     "status": "completed"
    },
    "tags": []
   },
   "source": [
    "**Encode \"fuel_type\" column**"
   ]
  },
  {
   "cell_type": "code",
   "execution_count": 16,
   "id": "be6d46cd",
   "metadata": {
    "execution": {
     "iopub.execute_input": "2025-01-18T17:10:49.060644Z",
     "iopub.status.busy": "2025-01-18T17:10:49.060289Z",
     "iopub.status.idle": "2025-01-18T17:10:49.066540Z",
     "shell.execute_reply": "2025-01-18T17:10:49.065693Z"
    },
    "papermill": {
     "duration": 0.019237,
     "end_time": "2025-01-18T17:10:49.068094",
     "exception": false,
     "start_time": "2025-01-18T17:10:49.048857",
     "status": "completed"
    },
    "tags": []
   },
   "outputs": [
    {
     "data": {
      "text/plain": [
       "array(['Z', 'D', 'X', 'E', 'N'], dtype=object)"
      ]
     },
     "execution_count": 16,
     "metadata": {},
     "output_type": "execute_result"
    }
   ],
   "source": [
    "df[\"fuel_type\"].unique()"
   ]
  },
  {
   "cell_type": "code",
   "execution_count": 17,
   "id": "cd336835",
   "metadata": {
    "execution": {
     "iopub.execute_input": "2025-01-18T17:10:49.090905Z",
     "iopub.status.busy": "2025-01-18T17:10:49.090539Z",
     "iopub.status.idle": "2025-01-18T17:10:49.099018Z",
     "shell.execute_reply": "2025-01-18T17:10:49.098131Z"
    },
    "papermill": {
     "duration": 0.021932,
     "end_time": "2025-01-18T17:10:49.100545",
     "exception": false,
     "start_time": "2025-01-18T17:10:49.078613",
     "status": "completed"
    },
    "tags": []
   },
   "outputs": [
    {
     "data": {
      "text/plain": [
       "array([4, 0, 3, 1, 2])"
      ]
     },
     "execution_count": 17,
     "metadata": {},
     "output_type": "execute_result"
    }
   ],
   "source": [
    "df['fuel_type'] = le.fit_transform(df['fuel_type'])\n",
    "df['fuel_type'].unique()"
   ]
  },
  {
   "cell_type": "markdown",
   "id": "7d8da588",
   "metadata": {
    "papermill": {
     "duration": 0.010142,
     "end_time": "2025-01-18T17:10:49.121210",
     "exception": false,
     "start_time": "2025-01-18T17:10:49.111068",
     "status": "completed"
    },
    "tags": []
   },
   "source": [
    "**Encode \"model\" column**"
   ]
  },
  {
   "cell_type": "code",
   "execution_count": 18,
   "id": "3cb1a283",
   "metadata": {
    "execution": {
     "iopub.execute_input": "2025-01-18T17:10:49.143395Z",
     "iopub.status.busy": "2025-01-18T17:10:49.142975Z",
     "iopub.status.idle": "2025-01-18T17:10:49.152008Z",
     "shell.execute_reply": "2025-01-18T17:10:49.150951Z"
    },
    "papermill": {
     "duration": 0.022008,
     "end_time": "2025-01-18T17:10:49.153590",
     "exception": false,
     "start_time": "2025-01-18T17:10:49.131582",
     "status": "completed"
    },
    "tags": []
   },
   "outputs": [
    {
     "name": "stdout",
     "output_type": "stream",
     "text": [
      "['ILX' 'ILX HYBRID' 'MDX 4WD' ... 'Tacoma 4WD D-Cab TRD Off-Road/Pro'\n",
      " 'Atlas Cross Sport 4MOTION' 'XC40 T4 AWD']\n"
     ]
    },
    {
     "data": {
      "text/plain": [
       "2053"
      ]
     },
     "execution_count": 18,
     "metadata": {},
     "output_type": "execute_result"
    }
   ],
   "source": [
    "print(df[\"model\"].unique())\n",
    "len(df[\"model\"].unique())"
   ]
  },
  {
   "cell_type": "code",
   "execution_count": 19,
   "id": "2754aab8",
   "metadata": {
    "execution": {
     "iopub.execute_input": "2025-01-18T17:10:49.176855Z",
     "iopub.status.busy": "2025-01-18T17:10:49.176492Z",
     "iopub.status.idle": "2025-01-18T17:10:49.207219Z",
     "shell.execute_reply": "2025-01-18T17:10:49.206098Z"
    },
    "papermill": {
     "duration": 0.044296,
     "end_time": "2025-01-18T17:10:49.208993",
     "exception": false,
     "start_time": "2025-01-18T17:10:49.164697",
     "status": "completed"
    },
    "tags": []
   },
   "outputs": [
    {
     "data": {
      "text/plain": [
       "759"
      ]
     },
     "execution_count": 19,
     "metadata": {},
     "output_type": "execute_result"
    }
   ],
   "source": [
    "# Calculate the frequency of each category\n",
    "frequency = df['model'].value_counts()\n",
    "\n",
    "# Replace values with frequency less than 4 with 'Other'\n",
    "df['model'] = df['model'].apply(lambda x: x if frequency[x] >= 4 else 'Other')\n",
    "\n",
    "len(df[\"model\"].unique())"
   ]
  },
  {
   "cell_type": "code",
   "execution_count": 20,
   "id": "2247e6ed",
   "metadata": {
    "execution": {
     "iopub.execute_input": "2025-01-18T17:10:49.232827Z",
     "iopub.status.busy": "2025-01-18T17:10:49.232483Z",
     "iopub.status.idle": "2025-01-18T17:10:49.272057Z",
     "shell.execute_reply": "2025-01-18T17:10:49.270830Z"
    },
    "papermill": {
     "duration": 0.053313,
     "end_time": "2025-01-18T17:10:49.273778",
     "exception": false,
     "start_time": "2025-01-18T17:10:49.220465",
     "status": "completed"
    },
    "tags": []
   },
   "outputs": [
    {
     "data": {
      "text/html": [
       "<div>\n",
       "<style scoped>\n",
       "    .dataframe tbody tr th:only-of-type {\n",
       "        vertical-align: middle;\n",
       "    }\n",
       "\n",
       "    .dataframe tbody tr th {\n",
       "        vertical-align: top;\n",
       "    }\n",
       "\n",
       "    .dataframe thead th {\n",
       "        text-align: right;\n",
       "    }\n",
       "</style>\n",
       "<table border=\"1\" class=\"dataframe\">\n",
       "  <thead>\n",
       "    <tr style=\"text-align: right;\">\n",
       "      <th></th>\n",
       "      <th>make</th>\n",
       "      <th>vehicle_class</th>\n",
       "      <th>engine_size</th>\n",
       "      <th>cylinders</th>\n",
       "      <th>transmission</th>\n",
       "      <th>fuel_type</th>\n",
       "      <th>fuel_consumption</th>\n",
       "      <th>co2</th>\n",
       "      <th>model_124 SPIDER</th>\n",
       "      <th>model_124 Spider</th>\n",
       "      <th>...</th>\n",
       "      <th>model_Yukon 4WD</th>\n",
       "      <th>model_Yukon 4WD FFV</th>\n",
       "      <th>model_Yukon FFV</th>\n",
       "      <th>model_Yukon XL 4WD</th>\n",
       "      <th>model_Yukon XL 4WD FFV</th>\n",
       "      <th>model_Yukon XL FFV</th>\n",
       "      <th>model_Z4 sDRIVE28i</th>\n",
       "      <th>model_Z4 sDRIVE35i</th>\n",
       "      <th>model_tC</th>\n",
       "      <th>model_xB</th>\n",
       "    </tr>\n",
       "  </thead>\n",
       "  <tbody>\n",
       "    <tr>\n",
       "      <th>0</th>\n",
       "      <td>0</td>\n",
       "      <td>0</td>\n",
       "      <td>2.0</td>\n",
       "      <td>4</td>\n",
       "      <td>14</td>\n",
       "      <td>4</td>\n",
       "      <td>33</td>\n",
       "      <td>196</td>\n",
       "      <td>False</td>\n",
       "      <td>False</td>\n",
       "      <td>...</td>\n",
       "      <td>False</td>\n",
       "      <td>False</td>\n",
       "      <td>False</td>\n",
       "      <td>False</td>\n",
       "      <td>False</td>\n",
       "      <td>False</td>\n",
       "      <td>False</td>\n",
       "      <td>False</td>\n",
       "      <td>False</td>\n",
       "      <td>False</td>\n",
       "    </tr>\n",
       "    <tr>\n",
       "      <th>1</th>\n",
       "      <td>0</td>\n",
       "      <td>0</td>\n",
       "      <td>2.4</td>\n",
       "      <td>4</td>\n",
       "      <td>25</td>\n",
       "      <td>4</td>\n",
       "      <td>29</td>\n",
       "      <td>221</td>\n",
       "      <td>False</td>\n",
       "      <td>False</td>\n",
       "      <td>...</td>\n",
       "      <td>False</td>\n",
       "      <td>False</td>\n",
       "      <td>False</td>\n",
       "      <td>False</td>\n",
       "      <td>False</td>\n",
       "      <td>False</td>\n",
       "      <td>False</td>\n",
       "      <td>False</td>\n",
       "      <td>False</td>\n",
       "      <td>False</td>\n",
       "    </tr>\n",
       "    <tr>\n",
       "      <th>2</th>\n",
       "      <td>0</td>\n",
       "      <td>0</td>\n",
       "      <td>1.5</td>\n",
       "      <td>4</td>\n",
       "      <td>22</td>\n",
       "      <td>4</td>\n",
       "      <td>48</td>\n",
       "      <td>136</td>\n",
       "      <td>False</td>\n",
       "      <td>False</td>\n",
       "      <td>...</td>\n",
       "      <td>False</td>\n",
       "      <td>False</td>\n",
       "      <td>False</td>\n",
       "      <td>False</td>\n",
       "      <td>False</td>\n",
       "      <td>False</td>\n",
       "      <td>False</td>\n",
       "      <td>False</td>\n",
       "      <td>False</td>\n",
       "      <td>False</td>\n",
       "    </tr>\n",
       "    <tr>\n",
       "      <th>3</th>\n",
       "      <td>0</td>\n",
       "      <td>11</td>\n",
       "      <td>3.5</td>\n",
       "      <td>6</td>\n",
       "      <td>15</td>\n",
       "      <td>4</td>\n",
       "      <td>25</td>\n",
       "      <td>255</td>\n",
       "      <td>False</td>\n",
       "      <td>False</td>\n",
       "      <td>...</td>\n",
       "      <td>False</td>\n",
       "      <td>False</td>\n",
       "      <td>False</td>\n",
       "      <td>False</td>\n",
       "      <td>False</td>\n",
       "      <td>False</td>\n",
       "      <td>False</td>\n",
       "      <td>False</td>\n",
       "      <td>False</td>\n",
       "      <td>False</td>\n",
       "    </tr>\n",
       "    <tr>\n",
       "      <th>4</th>\n",
       "      <td>0</td>\n",
       "      <td>11</td>\n",
       "      <td>3.5</td>\n",
       "      <td>6</td>\n",
       "      <td>15</td>\n",
       "      <td>4</td>\n",
       "      <td>27</td>\n",
       "      <td>244</td>\n",
       "      <td>False</td>\n",
       "      <td>False</td>\n",
       "      <td>...</td>\n",
       "      <td>False</td>\n",
       "      <td>False</td>\n",
       "      <td>False</td>\n",
       "      <td>False</td>\n",
       "      <td>False</td>\n",
       "      <td>False</td>\n",
       "      <td>False</td>\n",
       "      <td>False</td>\n",
       "      <td>False</td>\n",
       "      <td>False</td>\n",
       "    </tr>\n",
       "    <tr>\n",
       "      <th>...</th>\n",
       "      <td>...</td>\n",
       "      <td>...</td>\n",
       "      <td>...</td>\n",
       "      <td>...</td>\n",
       "      <td>...</td>\n",
       "      <td>...</td>\n",
       "      <td>...</td>\n",
       "      <td>...</td>\n",
       "      <td>...</td>\n",
       "      <td>...</td>\n",
       "      <td>...</td>\n",
       "      <td>...</td>\n",
       "      <td>...</td>\n",
       "      <td>...</td>\n",
       "      <td>...</td>\n",
       "      <td>...</td>\n",
       "      <td>...</td>\n",
       "      <td>...</td>\n",
       "      <td>...</td>\n",
       "      <td>...</td>\n",
       "      <td>...</td>\n",
       "    </tr>\n",
       "    <tr>\n",
       "      <th>7380</th>\n",
       "      <td>41</td>\n",
       "      <td>11</td>\n",
       "      <td>2.0</td>\n",
       "      <td>4</td>\n",
       "      <td>17</td>\n",
       "      <td>4</td>\n",
       "      <td>30</td>\n",
       "      <td>219</td>\n",
       "      <td>False</td>\n",
       "      <td>False</td>\n",
       "      <td>...</td>\n",
       "      <td>False</td>\n",
       "      <td>False</td>\n",
       "      <td>False</td>\n",
       "      <td>False</td>\n",
       "      <td>False</td>\n",
       "      <td>False</td>\n",
       "      <td>False</td>\n",
       "      <td>False</td>\n",
       "      <td>False</td>\n",
       "      <td>False</td>\n",
       "    </tr>\n",
       "    <tr>\n",
       "      <th>7381</th>\n",
       "      <td>41</td>\n",
       "      <td>11</td>\n",
       "      <td>2.0</td>\n",
       "      <td>4</td>\n",
       "      <td>17</td>\n",
       "      <td>4</td>\n",
       "      <td>29</td>\n",
       "      <td>232</td>\n",
       "      <td>False</td>\n",
       "      <td>False</td>\n",
       "      <td>...</td>\n",
       "      <td>False</td>\n",
       "      <td>False</td>\n",
       "      <td>False</td>\n",
       "      <td>False</td>\n",
       "      <td>False</td>\n",
       "      <td>False</td>\n",
       "      <td>False</td>\n",
       "      <td>False</td>\n",
       "      <td>False</td>\n",
       "      <td>False</td>\n",
       "    </tr>\n",
       "    <tr>\n",
       "      <th>7382</th>\n",
       "      <td>41</td>\n",
       "      <td>11</td>\n",
       "      <td>2.0</td>\n",
       "      <td>4</td>\n",
       "      <td>17</td>\n",
       "      <td>4</td>\n",
       "      <td>27</td>\n",
       "      <td>240</td>\n",
       "      <td>False</td>\n",
       "      <td>False</td>\n",
       "      <td>...</td>\n",
       "      <td>False</td>\n",
       "      <td>False</td>\n",
       "      <td>False</td>\n",
       "      <td>False</td>\n",
       "      <td>False</td>\n",
       "      <td>False</td>\n",
       "      <td>False</td>\n",
       "      <td>False</td>\n",
       "      <td>False</td>\n",
       "      <td>False</td>\n",
       "    </tr>\n",
       "    <tr>\n",
       "      <th>7383</th>\n",
       "      <td>41</td>\n",
       "      <td>12</td>\n",
       "      <td>2.0</td>\n",
       "      <td>4</td>\n",
       "      <td>17</td>\n",
       "      <td>4</td>\n",
       "      <td>29</td>\n",
       "      <td>232</td>\n",
       "      <td>False</td>\n",
       "      <td>False</td>\n",
       "      <td>...</td>\n",
       "      <td>False</td>\n",
       "      <td>False</td>\n",
       "      <td>False</td>\n",
       "      <td>False</td>\n",
       "      <td>False</td>\n",
       "      <td>False</td>\n",
       "      <td>False</td>\n",
       "      <td>False</td>\n",
       "      <td>False</td>\n",
       "      <td>False</td>\n",
       "    </tr>\n",
       "    <tr>\n",
       "      <th>7384</th>\n",
       "      <td>41</td>\n",
       "      <td>12</td>\n",
       "      <td>2.0</td>\n",
       "      <td>4</td>\n",
       "      <td>17</td>\n",
       "      <td>4</td>\n",
       "      <td>26</td>\n",
       "      <td>248</td>\n",
       "      <td>False</td>\n",
       "      <td>False</td>\n",
       "      <td>...</td>\n",
       "      <td>False</td>\n",
       "      <td>False</td>\n",
       "      <td>False</td>\n",
       "      <td>False</td>\n",
       "      <td>False</td>\n",
       "      <td>False</td>\n",
       "      <td>False</td>\n",
       "      <td>False</td>\n",
       "      <td>False</td>\n",
       "      <td>False</td>\n",
       "    </tr>\n",
       "  </tbody>\n",
       "</table>\n",
       "<p>7385 rows × 767 columns</p>\n",
       "</div>"
      ],
      "text/plain": [
       "      make  vehicle_class  engine_size  cylinders  transmission  fuel_type  \\\n",
       "0        0              0          2.0          4            14          4   \n",
       "1        0              0          2.4          4            25          4   \n",
       "2        0              0          1.5          4            22          4   \n",
       "3        0             11          3.5          6            15          4   \n",
       "4        0             11          3.5          6            15          4   \n",
       "...    ...            ...          ...        ...           ...        ...   \n",
       "7380    41             11          2.0          4            17          4   \n",
       "7381    41             11          2.0          4            17          4   \n",
       "7382    41             11          2.0          4            17          4   \n",
       "7383    41             12          2.0          4            17          4   \n",
       "7384    41             12          2.0          4            17          4   \n",
       "\n",
       "      fuel_consumption  co2  model_124 SPIDER  model_124 Spider  ...  \\\n",
       "0                   33  196             False             False  ...   \n",
       "1                   29  221             False             False  ...   \n",
       "2                   48  136             False             False  ...   \n",
       "3                   25  255             False             False  ...   \n",
       "4                   27  244             False             False  ...   \n",
       "...                ...  ...               ...               ...  ...   \n",
       "7380                30  219             False             False  ...   \n",
       "7381                29  232             False             False  ...   \n",
       "7382                27  240             False             False  ...   \n",
       "7383                29  232             False             False  ...   \n",
       "7384                26  248             False             False  ...   \n",
       "\n",
       "      model_Yukon 4WD  model_Yukon 4WD FFV  model_Yukon FFV  \\\n",
       "0               False                False            False   \n",
       "1               False                False            False   \n",
       "2               False                False            False   \n",
       "3               False                False            False   \n",
       "4               False                False            False   \n",
       "...               ...                  ...              ...   \n",
       "7380            False                False            False   \n",
       "7381            False                False            False   \n",
       "7382            False                False            False   \n",
       "7383            False                False            False   \n",
       "7384            False                False            False   \n",
       "\n",
       "      model_Yukon XL 4WD  model_Yukon XL 4WD FFV  model_Yukon XL FFV  \\\n",
       "0                  False                   False               False   \n",
       "1                  False                   False               False   \n",
       "2                  False                   False               False   \n",
       "3                  False                   False               False   \n",
       "4                  False                   False               False   \n",
       "...                  ...                     ...                 ...   \n",
       "7380               False                   False               False   \n",
       "7381               False                   False               False   \n",
       "7382               False                   False               False   \n",
       "7383               False                   False               False   \n",
       "7384               False                   False               False   \n",
       "\n",
       "      model_Z4 sDRIVE28i  model_Z4 sDRIVE35i  model_tC  model_xB  \n",
       "0                  False               False     False     False  \n",
       "1                  False               False     False     False  \n",
       "2                  False               False     False     False  \n",
       "3                  False               False     False     False  \n",
       "4                  False               False     False     False  \n",
       "...                  ...                 ...       ...       ...  \n",
       "7380               False               False     False     False  \n",
       "7381               False               False     False     False  \n",
       "7382               False               False     False     False  \n",
       "7383               False               False     False     False  \n",
       "7384               False               False     False     False  \n",
       "\n",
       "[7385 rows x 767 columns]"
      ]
     },
     "execution_count": 20,
     "metadata": {},
     "output_type": "execute_result"
    }
   ],
   "source": [
    "# Perform One-Hot Encoding\n",
    "one_hot_encoded_df = pd.get_dummies(df, columns=['model'], prefix='model')\n",
    "one_hot_encoded_df"
   ]
  },
  {
   "cell_type": "markdown",
   "id": "2057462a",
   "metadata": {
    "papermill": {
     "duration": 0.01106,
     "end_time": "2025-01-18T17:10:49.296280",
     "exception": false,
     "start_time": "2025-01-18T17:10:49.285220",
     "status": "completed"
    },
    "tags": []
   },
   "source": [
    "## TRAINING - CO2 emission prediction"
   ]
  },
  {
   "cell_type": "code",
   "execution_count": 21,
   "id": "ad2573c7",
   "metadata": {
    "execution": {
     "iopub.execute_input": "2025-01-18T17:10:49.320381Z",
     "iopub.status.busy": "2025-01-18T17:10:49.319941Z",
     "iopub.status.idle": "2025-01-18T17:10:49.356365Z",
     "shell.execute_reply": "2025-01-18T17:10:49.355030Z"
    },
    "papermill": {
     "duration": 0.050862,
     "end_time": "2025-01-18T17:10:49.358368",
     "exception": false,
     "start_time": "2025-01-18T17:10:49.307506",
     "status": "completed"
    },
    "tags": []
   },
   "outputs": [
    {
     "name": "stdout",
     "output_type": "stream",
     "text": [
      "<class 'pandas.core.frame.DataFrame'>\n",
      "RangeIndex: 7385 entries, 0 to 7384\n",
      "Columns: 767 entries, make to model_xB\n",
      "dtypes: bool(759), float64(1), int64(7)\n",
      "memory usage: 5.8 MB\n"
     ]
    }
   ],
   "source": [
    "one_hot_encoded_df.info()"
   ]
  },
  {
   "cell_type": "markdown",
   "id": "e7e8f1bf",
   "metadata": {
    "papermill": {
     "duration": 0.011908,
     "end_time": "2025-01-18T17:10:49.382419",
     "exception": false,
     "start_time": "2025-01-18T17:10:49.370511",
     "status": "completed"
    },
    "tags": []
   },
   "source": [
    "### Data split"
   ]
  },
  {
   "cell_type": "code",
   "execution_count": 22,
   "id": "fe8b7ddd",
   "metadata": {
    "execution": {
     "iopub.execute_input": "2025-01-18T17:10:49.407512Z",
     "iopub.status.busy": "2025-01-18T17:10:49.407114Z",
     "iopub.status.idle": "2025-01-18T17:10:49.418210Z",
     "shell.execute_reply": "2025-01-18T17:10:49.417225Z"
    },
    "papermill": {
     "duration": 0.025732,
     "end_time": "2025-01-18T17:10:49.420054",
     "exception": false,
     "start_time": "2025-01-18T17:10:49.394322",
     "status": "completed"
    },
    "tags": []
   },
   "outputs": [],
   "source": [
    "from sklearn.model_selection import train_test_split\n",
    "\n",
    "X = one_hot_encoded_df.drop(columns=['co2'])  # All columns except 'co2'\n",
    "y = one_hot_encoded_df['co2'] "
   ]
  },
  {
   "cell_type": "code",
   "execution_count": 23,
   "id": "5aa98a40",
   "metadata": {
    "execution": {
     "iopub.execute_input": "2025-01-18T17:10:49.444567Z",
     "iopub.status.busy": "2025-01-18T17:10:49.444197Z",
     "iopub.status.idle": "2025-01-18T17:10:49.464569Z",
     "shell.execute_reply": "2025-01-18T17:10:49.463613Z"
    },
    "papermill": {
     "duration": 0.034942,
     "end_time": "2025-01-18T17:10:49.466551",
     "exception": false,
     "start_time": "2025-01-18T17:10:49.431609",
     "status": "completed"
    },
    "tags": []
   },
   "outputs": [],
   "source": [
    "X_train, X_test, y_train, y_test = train_test_split(X,y,test_size=0.2,random_state=10)"
   ]
  },
  {
   "cell_type": "markdown",
   "id": "b8791e4e",
   "metadata": {
    "papermill": {
     "duration": 0.0113,
     "end_time": "2025-01-18T17:10:49.489282",
     "exception": false,
     "start_time": "2025-01-18T17:10:49.477982",
     "status": "completed"
    },
    "tags": []
   },
   "source": [
    "### Train Linear Regression"
   ]
  },
  {
   "cell_type": "code",
   "execution_count": 24,
   "id": "f34c80f5",
   "metadata": {
    "execution": {
     "iopub.execute_input": "2025-01-18T17:10:49.513776Z",
     "iopub.status.busy": "2025-01-18T17:10:49.513424Z",
     "iopub.status.idle": "2025-01-18T17:10:50.083305Z",
     "shell.execute_reply": "2025-01-18T17:10:50.082217Z"
    },
    "papermill": {
     "duration": 0.584041,
     "end_time": "2025-01-18T17:10:50.085037",
     "exception": false,
     "start_time": "2025-01-18T17:10:49.500996",
     "status": "completed"
    },
    "tags": []
   },
   "outputs": [
    {
     "data": {
      "text/html": [
       "<style>#sk-container-id-1 {color: black;background-color: white;}#sk-container-id-1 pre{padding: 0;}#sk-container-id-1 div.sk-toggleable {background-color: white;}#sk-container-id-1 label.sk-toggleable__label {cursor: pointer;display: block;width: 100%;margin-bottom: 0;padding: 0.3em;box-sizing: border-box;text-align: center;}#sk-container-id-1 label.sk-toggleable__label-arrow:before {content: \"▸\";float: left;margin-right: 0.25em;color: #696969;}#sk-container-id-1 label.sk-toggleable__label-arrow:hover:before {color: black;}#sk-container-id-1 div.sk-estimator:hover label.sk-toggleable__label-arrow:before {color: black;}#sk-container-id-1 div.sk-toggleable__content {max-height: 0;max-width: 0;overflow: hidden;text-align: left;background-color: #f0f8ff;}#sk-container-id-1 div.sk-toggleable__content pre {margin: 0.2em;color: black;border-radius: 0.25em;background-color: #f0f8ff;}#sk-container-id-1 input.sk-toggleable__control:checked~div.sk-toggleable__content {max-height: 200px;max-width: 100%;overflow: auto;}#sk-container-id-1 input.sk-toggleable__control:checked~label.sk-toggleable__label-arrow:before {content: \"▾\";}#sk-container-id-1 div.sk-estimator input.sk-toggleable__control:checked~label.sk-toggleable__label {background-color: #d4ebff;}#sk-container-id-1 div.sk-label input.sk-toggleable__control:checked~label.sk-toggleable__label {background-color: #d4ebff;}#sk-container-id-1 input.sk-hidden--visually {border: 0;clip: rect(1px 1px 1px 1px);clip: rect(1px, 1px, 1px, 1px);height: 1px;margin: -1px;overflow: hidden;padding: 0;position: absolute;width: 1px;}#sk-container-id-1 div.sk-estimator {font-family: monospace;background-color: #f0f8ff;border: 1px dotted black;border-radius: 0.25em;box-sizing: border-box;margin-bottom: 0.5em;}#sk-container-id-1 div.sk-estimator:hover {background-color: #d4ebff;}#sk-container-id-1 div.sk-parallel-item::after {content: \"\";width: 100%;border-bottom: 1px solid gray;flex-grow: 1;}#sk-container-id-1 div.sk-label:hover label.sk-toggleable__label {background-color: #d4ebff;}#sk-container-id-1 div.sk-serial::before {content: \"\";position: absolute;border-left: 1px solid gray;box-sizing: border-box;top: 0;bottom: 0;left: 50%;z-index: 0;}#sk-container-id-1 div.sk-serial {display: flex;flex-direction: column;align-items: center;background-color: white;padding-right: 0.2em;padding-left: 0.2em;position: relative;}#sk-container-id-1 div.sk-item {position: relative;z-index: 1;}#sk-container-id-1 div.sk-parallel {display: flex;align-items: stretch;justify-content: center;background-color: white;position: relative;}#sk-container-id-1 div.sk-item::before, #sk-container-id-1 div.sk-parallel-item::before {content: \"\";position: absolute;border-left: 1px solid gray;box-sizing: border-box;top: 0;bottom: 0;left: 50%;z-index: -1;}#sk-container-id-1 div.sk-parallel-item {display: flex;flex-direction: column;z-index: 1;position: relative;background-color: white;}#sk-container-id-1 div.sk-parallel-item:first-child::after {align-self: flex-end;width: 50%;}#sk-container-id-1 div.sk-parallel-item:last-child::after {align-self: flex-start;width: 50%;}#sk-container-id-1 div.sk-parallel-item:only-child::after {width: 0;}#sk-container-id-1 div.sk-dashed-wrapped {border: 1px dashed gray;margin: 0 0.4em 0.5em 0.4em;box-sizing: border-box;padding-bottom: 0.4em;background-color: white;}#sk-container-id-1 div.sk-label label {font-family: monospace;font-weight: bold;display: inline-block;line-height: 1.2em;}#sk-container-id-1 div.sk-label-container {text-align: center;}#sk-container-id-1 div.sk-container {/* jupyter's `normalize.less` sets `[hidden] { display: none; }` but bootstrap.min.css set `[hidden] { display: none !important; }` so we also need the `!important` here to be able to override the default hidden behavior on the sphinx rendered scikit-learn.org. See: https://github.com/scikit-learn/scikit-learn/issues/21755 */display: inline-block !important;position: relative;}#sk-container-id-1 div.sk-text-repr-fallback {display: none;}</style><div id=\"sk-container-id-1\" class=\"sk-top-container\"><div class=\"sk-text-repr-fallback\"><pre>LinearRegression()</pre><b>In a Jupyter environment, please rerun this cell to show the HTML representation or trust the notebook. <br />On GitHub, the HTML representation is unable to render, please try loading this page with nbviewer.org.</b></div><div class=\"sk-container\" hidden><div class=\"sk-item\"><div class=\"sk-estimator sk-toggleable\"><input class=\"sk-toggleable__control sk-hidden--visually\" id=\"sk-estimator-id-1\" type=\"checkbox\" checked><label for=\"sk-estimator-id-1\" class=\"sk-toggleable__label sk-toggleable__label-arrow\">LinearRegression</label><div class=\"sk-toggleable__content\"><pre>LinearRegression()</pre></div></div></div></div></div>"
      ],
      "text/plain": [
       "LinearRegression()"
      ]
     },
     "execution_count": 24,
     "metadata": {},
     "output_type": "execute_result"
    }
   ],
   "source": [
    "from sklearn.linear_model import LinearRegression\n",
    "from sklearn import metrics\n",
    "\n",
    "lr = LinearRegression()\n",
    "lr.fit(X_train, y_train)"
   ]
  },
  {
   "cell_type": "markdown",
   "id": "fa7a3e52",
   "metadata": {
    "papermill": {
     "duration": 0.011436,
     "end_time": "2025-01-18T17:10:50.108322",
     "exception": false,
     "start_time": "2025-01-18T17:10:50.096886",
     "status": "completed"
    },
    "tags": []
   },
   "source": [
    "### Train Decision Tree"
   ]
  },
  {
   "cell_type": "code",
   "execution_count": 25,
   "id": "bc3c04d6",
   "metadata": {
    "execution": {
     "iopub.execute_input": "2025-01-18T17:10:50.132862Z",
     "iopub.status.busy": "2025-01-18T17:10:50.132446Z",
     "iopub.status.idle": "2025-01-18T17:10:50.301295Z",
     "shell.execute_reply": "2025-01-18T17:10:50.300169Z"
    },
    "papermill": {
     "duration": 0.182963,
     "end_time": "2025-01-18T17:10:50.302961",
     "exception": false,
     "start_time": "2025-01-18T17:10:50.119998",
     "status": "completed"
    },
    "tags": []
   },
   "outputs": [
    {
     "data": {
      "text/html": [
       "<style>#sk-container-id-2 {color: black;background-color: white;}#sk-container-id-2 pre{padding: 0;}#sk-container-id-2 div.sk-toggleable {background-color: white;}#sk-container-id-2 label.sk-toggleable__label {cursor: pointer;display: block;width: 100%;margin-bottom: 0;padding: 0.3em;box-sizing: border-box;text-align: center;}#sk-container-id-2 label.sk-toggleable__label-arrow:before {content: \"▸\";float: left;margin-right: 0.25em;color: #696969;}#sk-container-id-2 label.sk-toggleable__label-arrow:hover:before {color: black;}#sk-container-id-2 div.sk-estimator:hover label.sk-toggleable__label-arrow:before {color: black;}#sk-container-id-2 div.sk-toggleable__content {max-height: 0;max-width: 0;overflow: hidden;text-align: left;background-color: #f0f8ff;}#sk-container-id-2 div.sk-toggleable__content pre {margin: 0.2em;color: black;border-radius: 0.25em;background-color: #f0f8ff;}#sk-container-id-2 input.sk-toggleable__control:checked~div.sk-toggleable__content {max-height: 200px;max-width: 100%;overflow: auto;}#sk-container-id-2 input.sk-toggleable__control:checked~label.sk-toggleable__label-arrow:before {content: \"▾\";}#sk-container-id-2 div.sk-estimator input.sk-toggleable__control:checked~label.sk-toggleable__label {background-color: #d4ebff;}#sk-container-id-2 div.sk-label input.sk-toggleable__control:checked~label.sk-toggleable__label {background-color: #d4ebff;}#sk-container-id-2 input.sk-hidden--visually {border: 0;clip: rect(1px 1px 1px 1px);clip: rect(1px, 1px, 1px, 1px);height: 1px;margin: -1px;overflow: hidden;padding: 0;position: absolute;width: 1px;}#sk-container-id-2 div.sk-estimator {font-family: monospace;background-color: #f0f8ff;border: 1px dotted black;border-radius: 0.25em;box-sizing: border-box;margin-bottom: 0.5em;}#sk-container-id-2 div.sk-estimator:hover {background-color: #d4ebff;}#sk-container-id-2 div.sk-parallel-item::after {content: \"\";width: 100%;border-bottom: 1px solid gray;flex-grow: 1;}#sk-container-id-2 div.sk-label:hover label.sk-toggleable__label {background-color: #d4ebff;}#sk-container-id-2 div.sk-serial::before {content: \"\";position: absolute;border-left: 1px solid gray;box-sizing: border-box;top: 0;bottom: 0;left: 50%;z-index: 0;}#sk-container-id-2 div.sk-serial {display: flex;flex-direction: column;align-items: center;background-color: white;padding-right: 0.2em;padding-left: 0.2em;position: relative;}#sk-container-id-2 div.sk-item {position: relative;z-index: 1;}#sk-container-id-2 div.sk-parallel {display: flex;align-items: stretch;justify-content: center;background-color: white;position: relative;}#sk-container-id-2 div.sk-item::before, #sk-container-id-2 div.sk-parallel-item::before {content: \"\";position: absolute;border-left: 1px solid gray;box-sizing: border-box;top: 0;bottom: 0;left: 50%;z-index: -1;}#sk-container-id-2 div.sk-parallel-item {display: flex;flex-direction: column;z-index: 1;position: relative;background-color: white;}#sk-container-id-2 div.sk-parallel-item:first-child::after {align-self: flex-end;width: 50%;}#sk-container-id-2 div.sk-parallel-item:last-child::after {align-self: flex-start;width: 50%;}#sk-container-id-2 div.sk-parallel-item:only-child::after {width: 0;}#sk-container-id-2 div.sk-dashed-wrapped {border: 1px dashed gray;margin: 0 0.4em 0.5em 0.4em;box-sizing: border-box;padding-bottom: 0.4em;background-color: white;}#sk-container-id-2 div.sk-label label {font-family: monospace;font-weight: bold;display: inline-block;line-height: 1.2em;}#sk-container-id-2 div.sk-label-container {text-align: center;}#sk-container-id-2 div.sk-container {/* jupyter's `normalize.less` sets `[hidden] { display: none; }` but bootstrap.min.css set `[hidden] { display: none !important; }` so we also need the `!important` here to be able to override the default hidden behavior on the sphinx rendered scikit-learn.org. See: https://github.com/scikit-learn/scikit-learn/issues/21755 */display: inline-block !important;position: relative;}#sk-container-id-2 div.sk-text-repr-fallback {display: none;}</style><div id=\"sk-container-id-2\" class=\"sk-top-container\"><div class=\"sk-text-repr-fallback\"><pre>DecisionTreeRegressor(random_state=42)</pre><b>In a Jupyter environment, please rerun this cell to show the HTML representation or trust the notebook. <br />On GitHub, the HTML representation is unable to render, please try loading this page with nbviewer.org.</b></div><div class=\"sk-container\" hidden><div class=\"sk-item\"><div class=\"sk-estimator sk-toggleable\"><input class=\"sk-toggleable__control sk-hidden--visually\" id=\"sk-estimator-id-2\" type=\"checkbox\" checked><label for=\"sk-estimator-id-2\" class=\"sk-toggleable__label sk-toggleable__label-arrow\">DecisionTreeRegressor</label><div class=\"sk-toggleable__content\"><pre>DecisionTreeRegressor(random_state=42)</pre></div></div></div></div></div>"
      ],
      "text/plain": [
       "DecisionTreeRegressor(random_state=42)"
      ]
     },
     "execution_count": 25,
     "metadata": {},
     "output_type": "execute_result"
    }
   ],
   "source": [
    "dt = DecisionTreeRegressor(random_state=42)\n",
    "dt.fit(X_train, y_train)"
   ]
  },
  {
   "cell_type": "markdown",
   "id": "608f6ac0",
   "metadata": {
    "papermill": {
     "duration": 0.011205,
     "end_time": "2025-01-18T17:10:50.326388",
     "exception": false,
     "start_time": "2025-01-18T17:10:50.315183",
     "status": "completed"
    },
    "tags": []
   },
   "source": [
    "### Test"
   ]
  },
  {
   "cell_type": "code",
   "execution_count": 26,
   "id": "2bdcc473",
   "metadata": {
    "execution": {
     "iopub.execute_input": "2025-01-18T17:10:50.350736Z",
     "iopub.status.busy": "2025-01-18T17:10:50.350334Z",
     "iopub.status.idle": "2025-01-18T17:10:50.356514Z",
     "shell.execute_reply": "2025-01-18T17:10:50.355404Z"
    },
    "papermill": {
     "duration": 0.020353,
     "end_time": "2025-01-18T17:10:50.358334",
     "exception": false,
     "start_time": "2025-01-18T17:10:50.337981",
     "status": "completed"
    },
    "tags": []
   },
   "outputs": [],
   "source": [
    "def print_evaluate(true, predicted):  \n",
    "    mae = metrics.mean_absolute_error(true, predicted)\n",
    "    mse = metrics.mean_squared_error(true, predicted)\n",
    "    rmse = np.sqrt(metrics.mean_squared_error(true, predicted))\n",
    "    r2_square = metrics.r2_score(true, predicted)\n",
    "    print('MAE:', mae)\n",
    "    print('MSE:', mse)\n",
    "    print('RMSE:', rmse)\n",
    "    print('R2 Square', r2_square)\n",
    "    print('__________________________________')\n",
    "    \n",
    "def evaluate(true, predicted):\n",
    "    mae = metrics.mean_absolute_error(true, predicted)\n",
    "    mse = metrics.mean_squared_error(true, predicted)\n",
    "    rmse = np.sqrt(metrics.mean_squared_error(true, predicted))\n",
    "    r2_square = metrics.r2_score(true, predicted)\n",
    "    return mae, mse, rmse, r2_square"
   ]
  },
  {
   "cell_type": "code",
   "execution_count": 27,
   "id": "150e1c07",
   "metadata": {
    "execution": {
     "iopub.execute_input": "2025-01-18T17:10:50.383433Z",
     "iopub.status.busy": "2025-01-18T17:10:50.383033Z",
     "iopub.status.idle": "2025-01-18T17:10:50.451226Z",
     "shell.execute_reply": "2025-01-18T17:10:50.450032Z"
    },
    "papermill": {
     "duration": 0.082457,
     "end_time": "2025-01-18T17:10:50.452963",
     "exception": false,
     "start_time": "2025-01-18T17:10:50.370506",
     "status": "completed"
    },
    "tags": []
   },
   "outputs": [
    {
     "name": "stdout",
     "output_type": "stream",
     "text": [
      "Test set evaluation:\n",
      "_____________________________________\n",
      "MAE: 9.580988550880503\n",
      "MSE: 197.31241261077815\n",
      "RMSE: 14.046793677233897\n",
      "R2 Square 0.9439169981594613\n",
      "__________________________________\n",
      "Train set evaluation:\n",
      "_____________________________________\n",
      "MAE: 8.420551945591878\n",
      "MSE: 163.1813624206575\n",
      "RMSE: 12.774246060752764\n",
      "R2 Square 0.9519954664378748\n",
      "__________________________________\n"
     ]
    }
   ],
   "source": [
    "# Evaluate Linear Regression\n",
    "test_pred = lr.predict(X_test)\n",
    "train_pred = lr.predict(X_train)\n",
    "print('Test set evaluation:\\n_____________________________________')\n",
    "print_evaluate(y_test, test_pred)\n",
    "print('Train set evaluation:\\n_____________________________________')\n",
    "print_evaluate(y_train, train_pred)"
   ]
  },
  {
   "cell_type": "code",
   "execution_count": 28,
   "id": "ac83f4ea",
   "metadata": {
    "execution": {
     "iopub.execute_input": "2025-01-18T17:10:50.478220Z",
     "iopub.status.busy": "2025-01-18T17:10:50.477861Z",
     "iopub.status.idle": "2025-01-18T17:10:50.515503Z",
     "shell.execute_reply": "2025-01-18T17:10:50.514253Z"
    },
    "papermill": {
     "duration": 0.05229,
     "end_time": "2025-01-18T17:10:50.517291",
     "exception": false,
     "start_time": "2025-01-18T17:10:50.465001",
     "status": "completed"
    },
    "tags": []
   },
   "outputs": [
    {
     "name": "stdout",
     "output_type": "stream",
     "text": [
      "Test set evaluation:\n",
      "_____________________________________\n",
      "MAE: 2.7712518110791637\n",
      "MSE: 18.44533041997585\n",
      "RMSE: 4.294802721892572\n",
      "R2 Square 0.9947572000858685\n",
      "__________________________________\n",
      "Train set evaluation:\n",
      "_____________________________________\n",
      "MAE: 1.0129608543115651\n",
      "MSE: 3.5352053517083983\n",
      "RMSE: 1.8802141770841954\n",
      "R2 Square 0.9989600167480057\n",
      "__________________________________\n"
     ]
    }
   ],
   "source": [
    "# Evaluate Decision Tree\n",
    "test_pred = dt.predict(X_test)\n",
    "train_pred = dt.predict(X_train)\n",
    "print('Test set evaluation:\\n_____________________________________')\n",
    "print_evaluate(y_test, test_pred)\n",
    "print('Train set evaluation:\\n_____________________________________')\n",
    "print_evaluate(y_train, train_pred)"
   ]
  },
  {
   "cell_type": "code",
   "execution_count": 29,
   "id": "a79fa5d4",
   "metadata": {
    "execution": {
     "iopub.execute_input": "2025-01-18T17:10:50.542573Z",
     "iopub.status.busy": "2025-01-18T17:10:50.542203Z",
     "iopub.status.idle": "2025-01-18T17:10:50.560341Z",
     "shell.execute_reply": "2025-01-18T17:10:50.559252Z"
    },
    "papermill": {
     "duration": 0.032623,
     "end_time": "2025-01-18T17:10:50.562064",
     "exception": false,
     "start_time": "2025-01-18T17:10:50.529441",
     "status": "completed"
    },
    "tags": []
   },
   "outputs": [
    {
     "data": {
      "text/html": [
       "<div>\n",
       "<style scoped>\n",
       "    .dataframe tbody tr th:only-of-type {\n",
       "        vertical-align: middle;\n",
       "    }\n",
       "\n",
       "    .dataframe tbody tr th {\n",
       "        vertical-align: top;\n",
       "    }\n",
       "\n",
       "    .dataframe thead th {\n",
       "        text-align: right;\n",
       "    }\n",
       "</style>\n",
       "<table border=\"1\" class=\"dataframe\">\n",
       "  <thead>\n",
       "    <tr style=\"text-align: right;\">\n",
       "      <th></th>\n",
       "      <th>make</th>\n",
       "      <th>vehicle_class</th>\n",
       "      <th>engine_size</th>\n",
       "      <th>cylinders</th>\n",
       "      <th>transmission</th>\n",
       "      <th>fuel_type</th>\n",
       "      <th>fuel_consumption</th>\n",
       "      <th>model_124 SPIDER</th>\n",
       "      <th>model_124 Spider</th>\n",
       "      <th>model_1500</th>\n",
       "      <th>...</th>\n",
       "      <th>model_Yukon 4WD</th>\n",
       "      <th>model_Yukon 4WD FFV</th>\n",
       "      <th>model_Yukon FFV</th>\n",
       "      <th>model_Yukon XL 4WD</th>\n",
       "      <th>model_Yukon XL 4WD FFV</th>\n",
       "      <th>model_Yukon XL FFV</th>\n",
       "      <th>model_Z4 sDRIVE28i</th>\n",
       "      <th>model_Z4 sDRIVE35i</th>\n",
       "      <th>model_tC</th>\n",
       "      <th>model_xB</th>\n",
       "    </tr>\n",
       "  </thead>\n",
       "  <tbody>\n",
       "    <tr>\n",
       "      <th>2049</th>\n",
       "      <td>33</td>\n",
       "      <td>6</td>\n",
       "      <td>3.6</td>\n",
       "      <td>6</td>\n",
       "      <td>5</td>\n",
       "      <td>3</td>\n",
       "      <td>22</td>\n",
       "      <td>False</td>\n",
       "      <td>False</td>\n",
       "      <td>False</td>\n",
       "      <td>...</td>\n",
       "      <td>False</td>\n",
       "      <td>False</td>\n",
       "      <td>False</td>\n",
       "      <td>False</td>\n",
       "      <td>False</td>\n",
       "      <td>False</td>\n",
       "      <td>False</td>\n",
       "      <td>False</td>\n",
       "      <td>False</td>\n",
       "      <td>False</td>\n",
       "    </tr>\n",
       "  </tbody>\n",
       "</table>\n",
       "<p>1 rows × 766 columns</p>\n",
       "</div>"
      ],
      "text/plain": [
       "      make  vehicle_class  engine_size  cylinders  transmission  fuel_type  \\\n",
       "2049    33              6          3.6          6             5          3   \n",
       "\n",
       "      fuel_consumption  model_124 SPIDER  model_124 Spider  model_1500  ...  \\\n",
       "2049                22             False             False       False  ...   \n",
       "\n",
       "      model_Yukon 4WD  model_Yukon 4WD FFV  model_Yukon FFV  \\\n",
       "2049            False                False            False   \n",
       "\n",
       "      model_Yukon XL 4WD  model_Yukon XL 4WD FFV  model_Yukon XL FFV  \\\n",
       "2049               False                   False               False   \n",
       "\n",
       "      model_Z4 sDRIVE28i  model_Z4 sDRIVE35i  model_tC  model_xB  \n",
       "2049               False               False     False     False  \n",
       "\n",
       "[1 rows x 766 columns]"
      ]
     },
     "execution_count": 29,
     "metadata": {},
     "output_type": "execute_result"
    }
   ],
   "source": [
    "X_test.iloc[[1]]"
   ]
  },
  {
   "cell_type": "code",
   "execution_count": 30,
   "id": "71f08a6a",
   "metadata": {
    "execution": {
     "iopub.execute_input": "2025-01-18T17:10:50.588147Z",
     "iopub.status.busy": "2025-01-18T17:10:50.587770Z",
     "iopub.status.idle": "2025-01-18T17:10:50.599005Z",
     "shell.execute_reply": "2025-01-18T17:10:50.598104Z"
    },
    "papermill": {
     "duration": 0.026003,
     "end_time": "2025-01-18T17:10:50.600626",
     "exception": false,
     "start_time": "2025-01-18T17:10:50.574623",
     "status": "completed"
    },
    "tags": []
   },
   "outputs": [
    {
     "data": {
      "text/plain": [
       "array([297.33333333])"
      ]
     },
     "execution_count": 30,
     "metadata": {},
     "output_type": "execute_result"
    }
   ],
   "source": [
    "dt.predict(X_test.iloc[[1]])"
   ]
  },
  {
   "cell_type": "markdown",
   "id": "799ab6d3",
   "metadata": {
    "papermill": {
     "duration": 0.011967,
     "end_time": "2025-01-18T17:10:50.624905",
     "exception": false,
     "start_time": "2025-01-18T17:10:50.612938",
     "status": "completed"
    },
    "tags": []
   },
   "source": [
    "## TRAINING - Recommender by KMeans"
   ]
  },
  {
   "cell_type": "code",
   "execution_count": 31,
   "id": "6bf94ac0",
   "metadata": {
    "execution": {
     "iopub.execute_input": "2025-01-18T17:10:50.651680Z",
     "iopub.status.busy": "2025-01-18T17:10:50.651328Z",
     "iopub.status.idle": "2025-01-18T17:10:50.665990Z",
     "shell.execute_reply": "2025-01-18T17:10:50.664963Z"
    },
    "papermill": {
     "duration": 0.030593,
     "end_time": "2025-01-18T17:10:50.667639",
     "exception": false,
     "start_time": "2025-01-18T17:10:50.637046",
     "status": "completed"
    },
    "tags": []
   },
   "outputs": [
    {
     "data": {
      "text/html": [
       "<div>\n",
       "<style scoped>\n",
       "    .dataframe tbody tr th:only-of-type {\n",
       "        vertical-align: middle;\n",
       "    }\n",
       "\n",
       "    .dataframe tbody tr th {\n",
       "        vertical-align: top;\n",
       "    }\n",
       "\n",
       "    .dataframe thead th {\n",
       "        text-align: right;\n",
       "    }\n",
       "</style>\n",
       "<table border=\"1\" class=\"dataframe\">\n",
       "  <thead>\n",
       "    <tr style=\"text-align: right;\">\n",
       "      <th></th>\n",
       "      <th>make</th>\n",
       "      <th>model</th>\n",
       "      <th>vehicle_class</th>\n",
       "      <th>engine_size</th>\n",
       "      <th>cylinders</th>\n",
       "      <th>transmission</th>\n",
       "      <th>fuel_type</th>\n",
       "      <th>fuel_consumption</th>\n",
       "      <th>co2</th>\n",
       "    </tr>\n",
       "  </thead>\n",
       "  <tbody>\n",
       "    <tr>\n",
       "      <th>0</th>\n",
       "      <td>ACURA</td>\n",
       "      <td>ILX</td>\n",
       "      <td>COMPACT</td>\n",
       "      <td>2.0</td>\n",
       "      <td>4</td>\n",
       "      <td>AS5</td>\n",
       "      <td>Z</td>\n",
       "      <td>33</td>\n",
       "      <td>196</td>\n",
       "    </tr>\n",
       "    <tr>\n",
       "      <th>1</th>\n",
       "      <td>ACURA</td>\n",
       "      <td>ILX</td>\n",
       "      <td>COMPACT</td>\n",
       "      <td>2.4</td>\n",
       "      <td>4</td>\n",
       "      <td>M6</td>\n",
       "      <td>Z</td>\n",
       "      <td>29</td>\n",
       "      <td>221</td>\n",
       "    </tr>\n",
       "    <tr>\n",
       "      <th>2</th>\n",
       "      <td>ACURA</td>\n",
       "      <td>ILX HYBRID</td>\n",
       "      <td>COMPACT</td>\n",
       "      <td>1.5</td>\n",
       "      <td>4</td>\n",
       "      <td>AV7</td>\n",
       "      <td>Z</td>\n",
       "      <td>48</td>\n",
       "      <td>136</td>\n",
       "    </tr>\n",
       "    <tr>\n",
       "      <th>3</th>\n",
       "      <td>ACURA</td>\n",
       "      <td>MDX 4WD</td>\n",
       "      <td>SUV - SMALL</td>\n",
       "      <td>3.5</td>\n",
       "      <td>6</td>\n",
       "      <td>AS6</td>\n",
       "      <td>Z</td>\n",
       "      <td>25</td>\n",
       "      <td>255</td>\n",
       "    </tr>\n",
       "    <tr>\n",
       "      <th>4</th>\n",
       "      <td>ACURA</td>\n",
       "      <td>RDX AWD</td>\n",
       "      <td>SUV - SMALL</td>\n",
       "      <td>3.5</td>\n",
       "      <td>6</td>\n",
       "      <td>AS6</td>\n",
       "      <td>Z</td>\n",
       "      <td>27</td>\n",
       "      <td>244</td>\n",
       "    </tr>\n",
       "    <tr>\n",
       "      <th>...</th>\n",
       "      <td>...</td>\n",
       "      <td>...</td>\n",
       "      <td>...</td>\n",
       "      <td>...</td>\n",
       "      <td>...</td>\n",
       "      <td>...</td>\n",
       "      <td>...</td>\n",
       "      <td>...</td>\n",
       "      <td>...</td>\n",
       "    </tr>\n",
       "    <tr>\n",
       "      <th>7380</th>\n",
       "      <td>VOLVO</td>\n",
       "      <td>XC40 T5 AWD</td>\n",
       "      <td>SUV - SMALL</td>\n",
       "      <td>2.0</td>\n",
       "      <td>4</td>\n",
       "      <td>AS8</td>\n",
       "      <td>Z</td>\n",
       "      <td>30</td>\n",
       "      <td>219</td>\n",
       "    </tr>\n",
       "    <tr>\n",
       "      <th>7381</th>\n",
       "      <td>VOLVO</td>\n",
       "      <td>XC60 T5 AWD</td>\n",
       "      <td>SUV - SMALL</td>\n",
       "      <td>2.0</td>\n",
       "      <td>4</td>\n",
       "      <td>AS8</td>\n",
       "      <td>Z</td>\n",
       "      <td>29</td>\n",
       "      <td>232</td>\n",
       "    </tr>\n",
       "    <tr>\n",
       "      <th>7382</th>\n",
       "      <td>VOLVO</td>\n",
       "      <td>XC60 T6 AWD</td>\n",
       "      <td>SUV - SMALL</td>\n",
       "      <td>2.0</td>\n",
       "      <td>4</td>\n",
       "      <td>AS8</td>\n",
       "      <td>Z</td>\n",
       "      <td>27</td>\n",
       "      <td>240</td>\n",
       "    </tr>\n",
       "    <tr>\n",
       "      <th>7383</th>\n",
       "      <td>VOLVO</td>\n",
       "      <td>XC90 T5 AWD</td>\n",
       "      <td>SUV - STANDARD</td>\n",
       "      <td>2.0</td>\n",
       "      <td>4</td>\n",
       "      <td>AS8</td>\n",
       "      <td>Z</td>\n",
       "      <td>29</td>\n",
       "      <td>232</td>\n",
       "    </tr>\n",
       "    <tr>\n",
       "      <th>7384</th>\n",
       "      <td>VOLVO</td>\n",
       "      <td>XC90 T6 AWD</td>\n",
       "      <td>SUV - STANDARD</td>\n",
       "      <td>2.0</td>\n",
       "      <td>4</td>\n",
       "      <td>AS8</td>\n",
       "      <td>Z</td>\n",
       "      <td>26</td>\n",
       "      <td>248</td>\n",
       "    </tr>\n",
       "  </tbody>\n",
       "</table>\n",
       "<p>7385 rows × 9 columns</p>\n",
       "</div>"
      ],
      "text/plain": [
       "       make        model   vehicle_class  engine_size  cylinders transmission  \\\n",
       "0     ACURA          ILX         COMPACT          2.0          4          AS5   \n",
       "1     ACURA          ILX         COMPACT          2.4          4           M6   \n",
       "2     ACURA   ILX HYBRID         COMPACT          1.5          4          AV7   \n",
       "3     ACURA      MDX 4WD     SUV - SMALL          3.5          6          AS6   \n",
       "4     ACURA      RDX AWD     SUV - SMALL          3.5          6          AS6   \n",
       "...     ...          ...             ...          ...        ...          ...   \n",
       "7380  VOLVO  XC40 T5 AWD     SUV - SMALL          2.0          4          AS8   \n",
       "7381  VOLVO  XC60 T5 AWD     SUV - SMALL          2.0          4          AS8   \n",
       "7382  VOLVO  XC60 T6 AWD     SUV - SMALL          2.0          4          AS8   \n",
       "7383  VOLVO  XC90 T5 AWD  SUV - STANDARD          2.0          4          AS8   \n",
       "7384  VOLVO  XC90 T6 AWD  SUV - STANDARD          2.0          4          AS8   \n",
       "\n",
       "     fuel_type  fuel_consumption  co2  \n",
       "0            Z                33  196  \n",
       "1            Z                29  221  \n",
       "2            Z                48  136  \n",
       "3            Z                25  255  \n",
       "4            Z                27  244  \n",
       "...        ...               ...  ...  \n",
       "7380         Z                30  219  \n",
       "7381         Z                29  232  \n",
       "7382         Z                27  240  \n",
       "7383         Z                29  232  \n",
       "7384         Z                26  248  \n",
       "\n",
       "[7385 rows x 9 columns]"
      ]
     },
     "execution_count": 31,
     "metadata": {},
     "output_type": "execute_result"
    }
   ],
   "source": [
    "df_recommender"
   ]
  },
  {
   "cell_type": "code",
   "execution_count": 32,
   "id": "dc5cadfd",
   "metadata": {
    "execution": {
     "iopub.execute_input": "2025-01-18T17:10:50.693978Z",
     "iopub.status.busy": "2025-01-18T17:10:50.693635Z",
     "iopub.status.idle": "2025-01-18T17:10:50.927472Z",
     "shell.execute_reply": "2025-01-18T17:10:50.926401Z"
    },
    "papermill": {
     "duration": 0.249002,
     "end_time": "2025-01-18T17:10:50.929336",
     "exception": false,
     "start_time": "2025-01-18T17:10:50.680334",
     "status": "completed"
    },
    "tags": []
   },
   "outputs": [],
   "source": [
    "from sklearn.cluster import KMeans\n",
    "from sklearn.preprocessing import StandardScaler\n",
    "import numpy as np\n",
    "\n",
    "# Standardize the features\n",
    "scaler = StandardScaler()\n",
    "scaled_features = scaler.fit_transform(df_recommender[['engine_size', 'cylinders', 'fuel_consumption', 'co2']].values)"
   ]
  },
  {
   "cell_type": "code",
   "execution_count": 33,
   "id": "19a63b37",
   "metadata": {
    "execution": {
     "iopub.execute_input": "2025-01-18T17:10:50.956298Z",
     "iopub.status.busy": "2025-01-18T17:10:50.955869Z",
     "iopub.status.idle": "2025-01-18T17:10:51.024691Z",
     "shell.execute_reply": "2025-01-18T17:10:51.023802Z"
    },
    "papermill": {
     "duration": 0.08447,
     "end_time": "2025-01-18T17:10:51.026773",
     "exception": false,
     "start_time": "2025-01-18T17:10:50.942303",
     "status": "completed"
    },
    "tags": []
   },
   "outputs": [
    {
     "data": {
      "text/html": [
       "<div>\n",
       "<style scoped>\n",
       "    .dataframe tbody tr th:only-of-type {\n",
       "        vertical-align: middle;\n",
       "    }\n",
       "\n",
       "    .dataframe tbody tr th {\n",
       "        vertical-align: top;\n",
       "    }\n",
       "\n",
       "    .dataframe thead th {\n",
       "        text-align: right;\n",
       "    }\n",
       "</style>\n",
       "<table border=\"1\" class=\"dataframe\">\n",
       "  <thead>\n",
       "    <tr style=\"text-align: right;\">\n",
       "      <th></th>\n",
       "      <th>make</th>\n",
       "      <th>model</th>\n",
       "      <th>vehicle_class</th>\n",
       "      <th>engine_size</th>\n",
       "      <th>cylinders</th>\n",
       "      <th>transmission</th>\n",
       "      <th>fuel_type</th>\n",
       "      <th>fuel_consumption</th>\n",
       "      <th>co2</th>\n",
       "      <th>cluster</th>\n",
       "    </tr>\n",
       "  </thead>\n",
       "  <tbody>\n",
       "    <tr>\n",
       "      <th>0</th>\n",
       "      <td>ACURA</td>\n",
       "      <td>ILX</td>\n",
       "      <td>COMPACT</td>\n",
       "      <td>2.0</td>\n",
       "      <td>4</td>\n",
       "      <td>AS5</td>\n",
       "      <td>Z</td>\n",
       "      <td>33</td>\n",
       "      <td>196</td>\n",
       "      <td>2</td>\n",
       "    </tr>\n",
       "    <tr>\n",
       "      <th>1</th>\n",
       "      <td>ACURA</td>\n",
       "      <td>ILX</td>\n",
       "      <td>COMPACT</td>\n",
       "      <td>2.4</td>\n",
       "      <td>4</td>\n",
       "      <td>M6</td>\n",
       "      <td>Z</td>\n",
       "      <td>29</td>\n",
       "      <td>221</td>\n",
       "      <td>2</td>\n",
       "    </tr>\n",
       "    <tr>\n",
       "      <th>2</th>\n",
       "      <td>ACURA</td>\n",
       "      <td>ILX HYBRID</td>\n",
       "      <td>COMPACT</td>\n",
       "      <td>1.5</td>\n",
       "      <td>4</td>\n",
       "      <td>AV7</td>\n",
       "      <td>Z</td>\n",
       "      <td>48</td>\n",
       "      <td>136</td>\n",
       "      <td>2</td>\n",
       "    </tr>\n",
       "    <tr>\n",
       "      <th>3</th>\n",
       "      <td>ACURA</td>\n",
       "      <td>MDX 4WD</td>\n",
       "      <td>SUV - SMALL</td>\n",
       "      <td>3.5</td>\n",
       "      <td>6</td>\n",
       "      <td>AS6</td>\n",
       "      <td>Z</td>\n",
       "      <td>25</td>\n",
       "      <td>255</td>\n",
       "      <td>1</td>\n",
       "    </tr>\n",
       "    <tr>\n",
       "      <th>4</th>\n",
       "      <td>ACURA</td>\n",
       "      <td>RDX AWD</td>\n",
       "      <td>SUV - SMALL</td>\n",
       "      <td>3.5</td>\n",
       "      <td>6</td>\n",
       "      <td>AS6</td>\n",
       "      <td>Z</td>\n",
       "      <td>27</td>\n",
       "      <td>244</td>\n",
       "      <td>1</td>\n",
       "    </tr>\n",
       "  </tbody>\n",
       "</table>\n",
       "</div>"
      ],
      "text/plain": [
       "    make       model vehicle_class  engine_size  cylinders transmission  \\\n",
       "0  ACURA         ILX       COMPACT          2.0          4          AS5   \n",
       "1  ACURA         ILX       COMPACT          2.4          4           M6   \n",
       "2  ACURA  ILX HYBRID       COMPACT          1.5          4          AV7   \n",
       "3  ACURA     MDX 4WD   SUV - SMALL          3.5          6          AS6   \n",
       "4  ACURA     RDX AWD   SUV - SMALL          3.5          6          AS6   \n",
       "\n",
       "  fuel_type  fuel_consumption  co2  cluster  \n",
       "0         Z                33  196        2  \n",
       "1         Z                29  221        2  \n",
       "2         Z                48  136        2  \n",
       "3         Z                25  255        1  \n",
       "4         Z                27  244        1  "
      ]
     },
     "execution_count": 33,
     "metadata": {},
     "output_type": "execute_result"
    }
   ],
   "source": [
    "# Apply K-Means clustering\n",
    "kmeans = KMeans(n_clusters=3, random_state=42, n_init='auto')\n",
    "df_recommender['cluster'] = kmeans.fit_predict(scaled_features)\n",
    "df_recommender.head(5)"
   ]
  },
  {
   "cell_type": "code",
   "execution_count": 34,
   "id": "09b23c7b",
   "metadata": {
    "execution": {
     "iopub.execute_input": "2025-01-18T17:10:51.054350Z",
     "iopub.status.busy": "2025-01-18T17:10:51.053935Z",
     "iopub.status.idle": "2025-01-18T17:10:51.059910Z",
     "shell.execute_reply": "2025-01-18T17:10:51.059065Z"
    },
    "papermill": {
     "duration": 0.021599,
     "end_time": "2025-01-18T17:10:51.061549",
     "exception": false,
     "start_time": "2025-01-18T17:10:51.039950",
     "status": "completed"
    },
    "tags": []
   },
   "outputs": [],
   "source": [
    "# Recommendation function\n",
    "def recommend_car(desired_engine_size, desired_cylinders, desired_fuel_consumption, desired_co2):\n",
    "    # Scale the input features\n",
    "    scaled_input = scaler.transform([[desired_engine_size, desired_cylinders, desired_fuel_consumption, desired_co2]])[0]\n",
    "    \n",
    "    # Predict the closest cluster\n",
    "    cluster_centers = kmeans.cluster_centers_\n",
    "    closest_cluster_idx = np.argmin(np.linalg.norm(cluster_centers - scaled_input, axis=1))\n",
    "    \n",
    "    # Filter cars in the closest cluster\n",
    "    cluster_cars = df_recommender[df_recommender['cluster'] == closest_cluster_idx].copy()\n",
    "    \n",
    "    # Calculate distances to all cars in the cluster\n",
    "    cluster_cars['distance'] = cluster_cars.apply(\n",
    "        lambda row: np.linalg.norm(scaler.transform([[row['engine_size'], row['cylinders'], row['fuel_consumption'], row['co2']]])[0] - scaled_input),\n",
    "        axis=1\n",
    "    )\n",
    "    \n",
    "    # Recommend the car with the smallest distance\n",
    "    recommended_cars = cluster_cars.nsmallest(8, 'distance')\n",
    "    \n",
    "    return recommended_cars"
   ]
  },
  {
   "cell_type": "code",
   "execution_count": 35,
   "id": "a4eaad76",
   "metadata": {
    "execution": {
     "iopub.execute_input": "2025-01-18T17:10:51.087997Z",
     "iopub.status.busy": "2025-01-18T17:10:51.087630Z",
     "iopub.status.idle": "2025-01-18T17:10:51.374321Z",
     "shell.execute_reply": "2025-01-18T17:10:51.373305Z"
    },
    "papermill": {
     "duration": 0.30157,
     "end_time": "2025-01-18T17:10:51.375761",
     "exception": false,
     "start_time": "2025-01-18T17:10:51.074191",
     "status": "completed"
    },
    "tags": []
   },
   "outputs": [
    {
     "name": "stdout",
     "output_type": "stream",
     "text": [
      "Recommended Cars:\n"
     ]
    },
    {
     "data": {
      "text/html": [
       "<div>\n",
       "<style scoped>\n",
       "    .dataframe tbody tr th:only-of-type {\n",
       "        vertical-align: middle;\n",
       "    }\n",
       "\n",
       "    .dataframe tbody tr th {\n",
       "        vertical-align: top;\n",
       "    }\n",
       "\n",
       "    .dataframe thead th {\n",
       "        text-align: right;\n",
       "    }\n",
       "</style>\n",
       "<table border=\"1\" class=\"dataframe\">\n",
       "  <thead>\n",
       "    <tr style=\"text-align: right;\">\n",
       "      <th></th>\n",
       "      <th>make</th>\n",
       "      <th>model</th>\n",
       "      <th>vehicle_class</th>\n",
       "      <th>transmission</th>\n",
       "      <th>fuel_type</th>\n",
       "      <th>distance</th>\n",
       "    </tr>\n",
       "  </thead>\n",
       "  <tbody>\n",
       "    <tr>\n",
       "      <th>655</th>\n",
       "      <td>LAND ROVER</td>\n",
       "      <td>RANGE ROVER V6 3.0 SC FFV</td>\n",
       "      <td>SUV - STANDARD</td>\n",
       "      <td>AS8</td>\n",
       "      <td>E</td>\n",
       "      <td>1.722148</td>\n",
       "    </tr>\n",
       "    <tr>\n",
       "      <th>649</th>\n",
       "      <td>LAND ROVER</td>\n",
       "      <td>RANGE ROVER SPORT V6 3.0 SC FFV</td>\n",
       "      <td>SUV - STANDARD</td>\n",
       "      <td>AS8</td>\n",
       "      <td>E</td>\n",
       "      <td>1.735244</td>\n",
       "    </tr>\n",
       "    <tr>\n",
       "      <th>6797</th>\n",
       "      <td>FORD</td>\n",
       "      <td>F-150 FFV</td>\n",
       "      <td>PICKUP TRUCK - STANDARD</td>\n",
       "      <td>AS6</td>\n",
       "      <td>E</td>\n",
       "      <td>1.749921</td>\n",
       "    </tr>\n",
       "    <tr>\n",
       "      <th>5758</th>\n",
       "      <td>FORD</td>\n",
       "      <td>F-150 FFV</td>\n",
       "      <td>PICKUP TRUCK - STANDARD</td>\n",
       "      <td>AS6</td>\n",
       "      <td>E</td>\n",
       "      <td>1.765212</td>\n",
       "    </tr>\n",
       "    <tr>\n",
       "      <th>5760</th>\n",
       "      <td>FORD</td>\n",
       "      <td>F-150 FFV (LT Tire Pkg)</td>\n",
       "      <td>PICKUP TRUCK - STANDARD</td>\n",
       "      <td>AS6</td>\n",
       "      <td>E</td>\n",
       "      <td>1.765212</td>\n",
       "    </tr>\n",
       "    <tr>\n",
       "      <th>1513</th>\n",
       "      <td>FORD</td>\n",
       "      <td>TAURUS FFV</td>\n",
       "      <td>FULL-SIZE</td>\n",
       "      <td>AS6</td>\n",
       "      <td>E</td>\n",
       "      <td>1.770297</td>\n",
       "    </tr>\n",
       "    <tr>\n",
       "      <th>4720</th>\n",
       "      <td>FORD</td>\n",
       "      <td>F-150 FFV</td>\n",
       "      <td>PICKUP TRUCK - STANDARD</td>\n",
       "      <td>AS6</td>\n",
       "      <td>E</td>\n",
       "      <td>1.773055</td>\n",
       "    </tr>\n",
       "    <tr>\n",
       "      <th>4723</th>\n",
       "      <td>FORD</td>\n",
       "      <td>F-150 FFV (LT Tire Pkg)</td>\n",
       "      <td>PICKUP TRUCK - STANDARD</td>\n",
       "      <td>AS6</td>\n",
       "      <td>E</td>\n",
       "      <td>1.773055</td>\n",
       "    </tr>\n",
       "  </tbody>\n",
       "</table>\n",
       "</div>"
      ],
      "text/plain": [
       "            make                            model            vehicle_class  \\\n",
       "655   LAND ROVER        RANGE ROVER V6 3.0 SC FFV           SUV - STANDARD   \n",
       "649   LAND ROVER  RANGE ROVER SPORT V6 3.0 SC FFV           SUV - STANDARD   \n",
       "6797        FORD                        F-150 FFV  PICKUP TRUCK - STANDARD   \n",
       "5758        FORD                        F-150 FFV  PICKUP TRUCK - STANDARD   \n",
       "5760        FORD          F-150 FFV (LT Tire Pkg)  PICKUP TRUCK - STANDARD   \n",
       "1513        FORD                       TAURUS FFV                FULL-SIZE   \n",
       "4720        FORD                        F-150 FFV  PICKUP TRUCK - STANDARD   \n",
       "4723        FORD          F-150 FFV (LT Tire Pkg)  PICKUP TRUCK - STANDARD   \n",
       "\n",
       "     transmission fuel_type  distance  \n",
       "655           AS8         E  1.722148  \n",
       "649           AS8         E  1.735244  \n",
       "6797          AS6         E  1.749921  \n",
       "5758          AS6         E  1.765212  \n",
       "5760          AS6         E  1.765212  \n",
       "1513          AS6         E  1.770297  \n",
       "4720          AS6         E  1.773055  \n",
       "4723          AS6         E  1.773055  "
      ]
     },
     "execution_count": 35,
     "metadata": {},
     "output_type": "execute_result"
    }
   ],
   "source": [
    "# Test the recommendation system\n",
    "desired_engine_size = 2.0\n",
    "desired_cylinders = 6\n",
    "desired_fuel_consumption = 10.0\n",
    "desired_co2 = 200\n",
    "\n",
    "recommendation = recommend_car(desired_engine_size, desired_cylinders, desired_fuel_consumption, desired_co2)\n",
    "\n",
    "# Print the recommendation\n",
    "print(f\"Recommended Cars:\")\n",
    "recommendation[[\"make\", \"model\", \"vehicle_class\", \"transmission\", \"fuel_type\", \"distance\"]]"
   ]
  },
  {
   "cell_type": "markdown",
   "id": "3112901c",
   "metadata": {
    "papermill": {
     "duration": 0.013204,
     "end_time": "2025-01-18T17:10:51.402347",
     "exception": false,
     "start_time": "2025-01-18T17:10:51.389143",
     "status": "completed"
    },
    "tags": []
   },
   "source": [
    "## Export models"
   ]
  },
  {
   "cell_type": "code",
   "execution_count": 36,
   "id": "0687a254",
   "metadata": {
    "execution": {
     "iopub.execute_input": "2025-01-18T17:10:51.430837Z",
     "iopub.status.busy": "2025-01-18T17:10:51.430272Z",
     "iopub.status.idle": "2025-01-18T17:10:51.434000Z",
     "shell.execute_reply": "2025-01-18T17:10:51.433174Z"
    },
    "papermill": {
     "duration": 0.02039,
     "end_time": "2025-01-18T17:10:51.435597",
     "exception": false,
     "start_time": "2025-01-18T17:10:51.415207",
     "status": "completed"
    },
    "tags": []
   },
   "outputs": [],
   "source": [
    "# import joblib\n",
    "\n",
    "# # Save the models\n",
    "# joblib.dump(lr, 'linear_regression_model.pkl')\n",
    "# joblib.dump(dt, 'decision_tree_model.pkl')\n",
    "# joblib.dump(kmeans, 'kmeans_model.pkl')\n",
    "\n",
    "# print(\"Models saved successfully!\")"
   ]
  }
 ],
 "metadata": {
  "kaggle": {
   "accelerator": "none",
   "dataSources": [
    {
     "datasetId": 817556,
     "sourceId": 1399448,
     "sourceType": "datasetVersion"
    }
   ],
   "dockerImageVersionId": 30839,
   "isGpuEnabled": false,
   "isInternetEnabled": false,
   "language": "python",
   "sourceType": "notebook"
  },
  "kernelspec": {
   "display_name": "Python 3",
   "language": "python",
   "name": "python3"
  },
  "language_info": {
   "codemirror_mode": {
    "name": "ipython",
    "version": 3
   },
   "file_extension": ".py",
   "mimetype": "text/x-python",
   "name": "python",
   "nbconvert_exporter": "python",
   "pygments_lexer": "ipython3",
   "version": "3.10.12"
  },
  "papermill": {
   "default_parameters": {},
   "duration": 14.416147,
   "end_time": "2025-01-18T17:10:52.269287",
   "environment_variables": {},
   "exception": null,
   "input_path": "__notebook__.ipynb",
   "output_path": "__notebook__.ipynb",
   "parameters": {},
   "start_time": "2025-01-18T17:10:37.853140",
   "version": "2.6.0"
  }
 },
 "nbformat": 4,
 "nbformat_minor": 5
}
